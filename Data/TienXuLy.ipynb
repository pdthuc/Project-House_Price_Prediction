{
 "cells": [
  {
   "cell_type": "markdown",
   "metadata": {},
   "source": [
    "# **TIỀN XỬ LÝ** \n",
    "\n",
    "## Các bước thực hiện:\n",
    " - Kiểm tra và tiền xử lý output \n",
    " - Tách dữ liệu thành 3 tập: train, validaton, test.\n",
    " - Tiến hành tiền xử lý\n"
   ]
  },
  {
   "cell_type": "code",
   "execution_count": 1,
   "metadata": {},
   "outputs": [],
   "source": [
    "# IMPORT THƯ VIỆN\n",
    "import numpy\n",
    "import pandas as pd"
   ]
  },
  {
   "cell_type": "markdown",
   "metadata": {},
   "source": [
    "## Khám phá dữ liệu (đủ để có thể xác định câu hỏi)"
   ]
  },
  {
   "cell_type": "code",
   "execution_count": 2,
   "metadata": {},
   "outputs": [
    {
     "data": {
      "text/html": [
       "<div>\n",
       "<style scoped>\n",
       "    .dataframe tbody tr th:only-of-type {\n",
       "        vertical-align: middle;\n",
       "    }\n",
       "\n",
       "    .dataframe tbody tr th {\n",
       "        vertical-align: top;\n",
       "    }\n",
       "\n",
       "    .dataframe thead th {\n",
       "        text-align: right;\n",
       "    }\n",
       "</style>\n",
       "<table border=\"1\" class=\"dataframe\">\n",
       "  <thead>\n",
       "    <tr style=\"text-align: right;\">\n",
       "      <th></th>\n",
       "      <th>Loại hình</th>\n",
       "      <th>Phòng ngủ</th>\n",
       "      <th>Phòng tắm</th>\n",
       "      <th>Diện tích</th>\n",
       "      <th>Diện tích sử dụng</th>\n",
       "      <th>Tình hình nội thất</th>\n",
       "      <th>Loại chủ quyền</th>\n",
       "      <th>Dự án</th>\n",
       "      <th>Tháp</th>\n",
       "      <th>Giá bán</th>\n",
       "      <th>...</th>\n",
       "      <th>Q2 Thảo Điền</th>\n",
       "      <th>Căn hộ cao cấp quận 2</th>\n",
       "      <th>Chủ đầu tư Singapore Thảo Điền</th>\n",
       "      <th>Căn hộ Thảo Điền</th>\n",
       "      <th>Căn hộ hạng sang</th>\n",
       "      <th>Căn hộ view sông</th>\n",
       "      <th>Đầy đủ vệ sinh</th>\n",
       "      <th>Kệ bếp</th>\n",
       "      <th>Hoàn thiện cơ bản</th>\n",
       "      <th>Nhà trống</th>\n",
       "    </tr>\n",
       "  </thead>\n",
       "  <tbody>\n",
       "    <tr>\n",
       "      <th>0</th>\n",
       "      <td>Căn hộ</td>\n",
       "      <td>3.0</td>\n",
       "      <td>2.0</td>\n",
       "      <td>88 m²</td>\n",
       "      <td>88 m²</td>\n",
       "      <td>Đầy đủ nội thất</td>\n",
       "      <td>Sổ hồng</td>\n",
       "      <td>Sky Garden</td>\n",
       "      <td>Sky Garden 2</td>\n",
       "      <td>3 tỷ</td>\n",
       "      <td>...</td>\n",
       "      <td>NaN</td>\n",
       "      <td>NaN</td>\n",
       "      <td>NaN</td>\n",
       "      <td>NaN</td>\n",
       "      <td>NaN</td>\n",
       "      <td>NaN</td>\n",
       "      <td>NaN</td>\n",
       "      <td>NaN</td>\n",
       "      <td>NaN</td>\n",
       "      <td>NaN</td>\n",
       "    </tr>\n",
       "    <tr>\n",
       "      <th>1</th>\n",
       "      <td>Căn hộ</td>\n",
       "      <td>3.0</td>\n",
       "      <td>2.0</td>\n",
       "      <td>90 m²</td>\n",
       "      <td>86 m²</td>\n",
       "      <td>Đầy đủ nội thất</td>\n",
       "      <td>HĐ mua bán</td>\n",
       "      <td>The Sun Avenue</td>\n",
       "      <td>Block 2</td>\n",
       "      <td>4.9 tỷ</td>\n",
       "      <td>...</td>\n",
       "      <td>NaN</td>\n",
       "      <td>NaN</td>\n",
       "      <td>NaN</td>\n",
       "      <td>NaN</td>\n",
       "      <td>NaN</td>\n",
       "      <td>NaN</td>\n",
       "      <td>NaN</td>\n",
       "      <td>NaN</td>\n",
       "      <td>NaN</td>\n",
       "      <td>NaN</td>\n",
       "    </tr>\n",
       "    <tr>\n",
       "      <th>2</th>\n",
       "      <td>Căn hộ</td>\n",
       "      <td>4.0</td>\n",
       "      <td>2.0</td>\n",
       "      <td>128 m²</td>\n",
       "      <td>128 m²</td>\n",
       "      <td>Nội thất cơ bản</td>\n",
       "      <td>Sổ hồng</td>\n",
       "      <td>NaN</td>\n",
       "      <td>NaN</td>\n",
       "      <td>4.25 tỷ</td>\n",
       "      <td>...</td>\n",
       "      <td>NaN</td>\n",
       "      <td>NaN</td>\n",
       "      <td>NaN</td>\n",
       "      <td>NaN</td>\n",
       "      <td>NaN</td>\n",
       "      <td>NaN</td>\n",
       "      <td>NaN</td>\n",
       "      <td>NaN</td>\n",
       "      <td>NaN</td>\n",
       "      <td>NaN</td>\n",
       "    </tr>\n",
       "    <tr>\n",
       "      <th>3</th>\n",
       "      <td>Nhà phố</td>\n",
       "      <td>4.0</td>\n",
       "      <td>4.0</td>\n",
       "      <td>31.8 m²</td>\n",
       "      <td>76.3 m²</td>\n",
       "      <td>Không có nội thất</td>\n",
       "      <td>Sổ hồng</td>\n",
       "      <td>NaN</td>\n",
       "      <td>NaN</td>\n",
       "      <td>5.62 tỷ</td>\n",
       "      <td>...</td>\n",
       "      <td>NaN</td>\n",
       "      <td>NaN</td>\n",
       "      <td>NaN</td>\n",
       "      <td>NaN</td>\n",
       "      <td>NaN</td>\n",
       "      <td>NaN</td>\n",
       "      <td>NaN</td>\n",
       "      <td>NaN</td>\n",
       "      <td>NaN</td>\n",
       "      <td>NaN</td>\n",
       "    </tr>\n",
       "    <tr>\n",
       "      <th>4</th>\n",
       "      <td>Nhà phố</td>\n",
       "      <td>2.0</td>\n",
       "      <td>1.0</td>\n",
       "      <td>26.5 m²</td>\n",
       "      <td>54 m²</td>\n",
       "      <td>Không có nội thất</td>\n",
       "      <td>Sổ hồng</td>\n",
       "      <td>NaN</td>\n",
       "      <td>NaN</td>\n",
       "      <td>2.4 tỷ</td>\n",
       "      <td>...</td>\n",
       "      <td>NaN</td>\n",
       "      <td>NaN</td>\n",
       "      <td>NaN</td>\n",
       "      <td>NaN</td>\n",
       "      <td>NaN</td>\n",
       "      <td>NaN</td>\n",
       "      <td>NaN</td>\n",
       "      <td>NaN</td>\n",
       "      <td>NaN</td>\n",
       "      <td>NaN</td>\n",
       "    </tr>\n",
       "    <tr>\n",
       "      <th>...</th>\n",
       "      <td>...</td>\n",
       "      <td>...</td>\n",
       "      <td>...</td>\n",
       "      <td>...</td>\n",
       "      <td>...</td>\n",
       "      <td>...</td>\n",
       "      <td>...</td>\n",
       "      <td>...</td>\n",
       "      <td>...</td>\n",
       "      <td>...</td>\n",
       "      <td>...</td>\n",
       "      <td>...</td>\n",
       "      <td>...</td>\n",
       "      <td>...</td>\n",
       "      <td>...</td>\n",
       "      <td>...</td>\n",
       "      <td>...</td>\n",
       "      <td>...</td>\n",
       "      <td>...</td>\n",
       "      <td>...</td>\n",
       "      <td>...</td>\n",
       "    </tr>\n",
       "    <tr>\n",
       "      <th>6930</th>\n",
       "      <td>Căn hộ</td>\n",
       "      <td>2.0</td>\n",
       "      <td>1.0</td>\n",
       "      <td>69 m²</td>\n",
       "      <td>63 m²</td>\n",
       "      <td>Nội thất cơ bản</td>\n",
       "      <td>HĐ mua bán</td>\n",
       "      <td>Vinhomes Grand Park</td>\n",
       "      <td>S3.03</td>\n",
       "      <td>2.6 tỷ</td>\n",
       "      <td>...</td>\n",
       "      <td>NaN</td>\n",
       "      <td>NaN</td>\n",
       "      <td>NaN</td>\n",
       "      <td>NaN</td>\n",
       "      <td>NaN</td>\n",
       "      <td>NaN</td>\n",
       "      <td>NaN</td>\n",
       "      <td>NaN</td>\n",
       "      <td>NaN</td>\n",
       "      <td>NaN</td>\n",
       "    </tr>\n",
       "    <tr>\n",
       "      <th>6931</th>\n",
       "      <td>Căn hộ</td>\n",
       "      <td>2.0</td>\n",
       "      <td>2.0</td>\n",
       "      <td>65.4 m²</td>\n",
       "      <td>60.7 m²</td>\n",
       "      <td>Nội thất cơ bản</td>\n",
       "      <td>HĐ mua bán</td>\n",
       "      <td>Lovera Vista Khang Điền</td>\n",
       "      <td>BLOCK C</td>\n",
       "      <td>2.05 tỷ</td>\n",
       "      <td>...</td>\n",
       "      <td>NaN</td>\n",
       "      <td>NaN</td>\n",
       "      <td>NaN</td>\n",
       "      <td>NaN</td>\n",
       "      <td>NaN</td>\n",
       "      <td>NaN</td>\n",
       "      <td>NaN</td>\n",
       "      <td>NaN</td>\n",
       "      <td>NaN</td>\n",
       "      <td>NaN</td>\n",
       "    </tr>\n",
       "    <tr>\n",
       "      <th>6932</th>\n",
       "      <td>Căn hộ</td>\n",
       "      <td>2.0</td>\n",
       "      <td>2.0</td>\n",
       "      <td>66.4 m²</td>\n",
       "      <td>66.4 m²</td>\n",
       "      <td>Đầy đủ nội thất</td>\n",
       "      <td>HĐ mua bán</td>\n",
       "      <td>Masteri Thảo Điền</td>\n",
       "      <td>T1</td>\n",
       "      <td>8 tỷ</td>\n",
       "      <td>...</td>\n",
       "      <td>NaN</td>\n",
       "      <td>NaN</td>\n",
       "      <td>NaN</td>\n",
       "      <td>NaN</td>\n",
       "      <td>NaN</td>\n",
       "      <td>NaN</td>\n",
       "      <td>NaN</td>\n",
       "      <td>NaN</td>\n",
       "      <td>NaN</td>\n",
       "      <td>NaN</td>\n",
       "    </tr>\n",
       "    <tr>\n",
       "      <th>6933</th>\n",
       "      <td>Căn hộ</td>\n",
       "      <td>2.0</td>\n",
       "      <td>2.0</td>\n",
       "      <td>67 m²</td>\n",
       "      <td>67 m²</td>\n",
       "      <td>Nội thất cơ bản</td>\n",
       "      <td>NaN</td>\n",
       "      <td>Green Star Sky Garden</td>\n",
       "      <td>NaN</td>\n",
       "      <td>2.3 tỷ</td>\n",
       "      <td>...</td>\n",
       "      <td>NaN</td>\n",
       "      <td>NaN</td>\n",
       "      <td>NaN</td>\n",
       "      <td>NaN</td>\n",
       "      <td>NaN</td>\n",
       "      <td>NaN</td>\n",
       "      <td>NaN</td>\n",
       "      <td>NaN</td>\n",
       "      <td>NaN</td>\n",
       "      <td>NaN</td>\n",
       "    </tr>\n",
       "    <tr>\n",
       "      <th>6934</th>\n",
       "      <td>Căn hộ</td>\n",
       "      <td>2.0</td>\n",
       "      <td>1.0</td>\n",
       "      <td>58.36 m²</td>\n",
       "      <td>58.36 m²</td>\n",
       "      <td>Không có nội thất</td>\n",
       "      <td>Sổ hồng</td>\n",
       "      <td>NaN</td>\n",
       "      <td>NaN</td>\n",
       "      <td>3.6 tỷ</td>\n",
       "      <td>...</td>\n",
       "      <td>NaN</td>\n",
       "      <td>NaN</td>\n",
       "      <td>NaN</td>\n",
       "      <td>NaN</td>\n",
       "      <td>NaN</td>\n",
       "      <td>NaN</td>\n",
       "      <td>NaN</td>\n",
       "      <td>NaN</td>\n",
       "      <td>NaN</td>\n",
       "      <td>NaN</td>\n",
       "    </tr>\n",
       "  </tbody>\n",
       "</table>\n",
       "<p>6935 rows × 123 columns</p>\n",
       "</div>"
      ],
      "text/plain": [
       "     Loại hình  Phòng ngủ  Phòng tắm Diện tích Diện tích sử dụng  \\\n",
       "0       Căn hộ        3.0        2.0     88 m²             88 m²   \n",
       "1       Căn hộ        3.0        2.0     90 m²             86 m²   \n",
       "2       Căn hộ        4.0        2.0    128 m²            128 m²   \n",
       "3      Nhà phố        4.0        4.0   31.8 m²           76.3 m²   \n",
       "4      Nhà phố        2.0        1.0   26.5 m²             54 m²   \n",
       "...        ...        ...        ...       ...               ...   \n",
       "6930    Căn hộ        2.0        1.0     69 m²             63 m²   \n",
       "6931    Căn hộ        2.0        2.0   65.4 m²           60.7 m²   \n",
       "6932    Căn hộ        2.0        2.0   66.4 m²           66.4 m²   \n",
       "6933    Căn hộ        2.0        2.0     67 m²             67 m²   \n",
       "6934    Căn hộ        2.0        1.0  58.36 m²          58.36 m²   \n",
       "\n",
       "     Tình hình nội thất Loại chủ quyền                    Dự án          Tháp  \\\n",
       "0       Đầy đủ nội thất        Sổ hồng               Sky Garden  Sky Garden 2   \n",
       "1       Đầy đủ nội thất     HĐ mua bán           The Sun Avenue       Block 2   \n",
       "2       Nội thất cơ bản        Sổ hồng                      NaN           NaN   \n",
       "3     Không có nội thất        Sổ hồng                      NaN           NaN   \n",
       "4     Không có nội thất        Sổ hồng                      NaN           NaN   \n",
       "...                 ...            ...                      ...           ...   \n",
       "6930    Nội thất cơ bản     HĐ mua bán      Vinhomes Grand Park         S3.03   \n",
       "6931    Nội thất cơ bản     HĐ mua bán  Lovera Vista Khang Điền       BLOCK C   \n",
       "6932    Đầy đủ nội thất     HĐ mua bán        Masteri Thảo Điền            T1   \n",
       "6933    Nội thất cơ bản            NaN    Green Star Sky Garden           NaN   \n",
       "6934  Không có nội thất        Sổ hồng                      NaN           NaN   \n",
       "\n",
       "      Giá bán  ... Q2 Thảo Điền Căn hộ cao cấp quận 2  \\\n",
       "0        3 tỷ  ...          NaN                   NaN   \n",
       "1      4.9 tỷ  ...          NaN                   NaN   \n",
       "2     4.25 tỷ  ...          NaN                   NaN   \n",
       "3     5.62 tỷ  ...          NaN                   NaN   \n",
       "4      2.4 tỷ  ...          NaN                   NaN   \n",
       "...       ...  ...          ...                   ...   \n",
       "6930   2.6 tỷ  ...          NaN                   NaN   \n",
       "6931  2.05 tỷ  ...          NaN                   NaN   \n",
       "6932     8 tỷ  ...          NaN                   NaN   \n",
       "6933   2.3 tỷ  ...          NaN                   NaN   \n",
       "6934   3.6 tỷ  ...          NaN                   NaN   \n",
       "\n",
       "     Chủ đầu tư Singapore Thảo Điền Căn hộ Thảo Điền Căn hộ hạng sang  \\\n",
       "0                               NaN              NaN              NaN   \n",
       "1                               NaN              NaN              NaN   \n",
       "2                               NaN              NaN              NaN   \n",
       "3                               NaN              NaN              NaN   \n",
       "4                               NaN              NaN              NaN   \n",
       "...                             ...              ...              ...   \n",
       "6930                            NaN              NaN              NaN   \n",
       "6931                            NaN              NaN              NaN   \n",
       "6932                            NaN              NaN              NaN   \n",
       "6933                            NaN              NaN              NaN   \n",
       "6934                            NaN              NaN              NaN   \n",
       "\n",
       "     Căn hộ view sông Đầy đủ vệ sinh Kệ bếp Hoàn thiện cơ bản Nhà trống  \n",
       "0                 NaN            NaN    NaN               NaN       NaN  \n",
       "1                 NaN            NaN    NaN               NaN       NaN  \n",
       "2                 NaN            NaN    NaN               NaN       NaN  \n",
       "3                 NaN            NaN    NaN               NaN       NaN  \n",
       "4                 NaN            NaN    NaN               NaN       NaN  \n",
       "...               ...            ...    ...               ...       ...  \n",
       "6930              NaN            NaN    NaN               NaN       NaN  \n",
       "6931              NaN            NaN    NaN               NaN       NaN  \n",
       "6932              NaN            NaN    NaN               NaN       NaN  \n",
       "6933              NaN            NaN    NaN               NaN       NaN  \n",
       "6934              NaN            NaN    NaN               NaN       NaN  \n",
       "\n",
       "[6935 rows x 123 columns]"
      ]
     },
     "execution_count": 2,
     "metadata": {},
     "output_type": "execute_result"
    }
   ],
   "source": [
    "all_houses_df = pd.read_csv('HOUSEs_info.csv', sep = '\\t')\n",
    "all_houses_df"
   ]
  },
  {
   "cell_type": "markdown",
   "metadata": {},
   "source": [
    "### Dữ liệu có bao nhiêu dòng và bao nhiêu cột?"
   ]
  },
  {
   "cell_type": "code",
   "execution_count": 3,
   "metadata": {},
   "outputs": [
    {
     "data": {
      "text/plain": [
       "(6935, 123)"
      ]
     },
     "execution_count": 3,
     "metadata": {},
     "output_type": "execute_result"
    }
   ],
   "source": [
    "all_houses_df.shape\n"
   ]
  },
  {
   "cell_type": "markdown",
   "metadata": {},
   "source": [
    "### Dữ liệu có các dòng bị lặp không?"
   ]
  },
  {
   "cell_type": "code",
   "execution_count": 4,
   "metadata": {},
   "outputs": [
    {
     "data": {
      "text/plain": [
       "0"
      ]
     },
     "execution_count": 4,
     "metadata": {},
     "output_type": "execute_result"
    }
   ],
   "source": [
    "all_houses_df.index.duplicated().sum()"
   ]
  },
  {
   "cell_type": "markdown",
   "metadata": {},
   "source": [
    "## Đưa ra câu hỏi cần trả lời\n",
    "*Output - Giá bán -* được tính từ *input - các thông tin của hành khách -* theo công thức nào?\n",
    " Trong đồ án này, ý nghĩa thực tế của việc đi tìm câu trả lời cho câu hỏi trên giúp người dùng có được 1 sự tham khảo với 1 độ chính xác cụ thể về giá nhà dựa trên các thông tin. Qua đó, người dùng có thể dựa trên dự đoán để tự đưa ra quyết định về việc mua (bán) nhà với một mức giá hợp lý.  \n"
   ]
  },
  {
   "cell_type": "markdown",
   "metadata": {},
   "source": [
    "## Khám phá dữ liệu \n",
    "### 1. OUTPUT TRƯỚC KHI TIỀN XỬ LÝ"
   ]
  },
  {
   "cell_type": "code",
   "execution_count": 5,
   "metadata": {},
   "outputs": [
    {
     "data": {
      "text/plain": [
       "dtype('O')"
      ]
     },
     "execution_count": 5,
     "metadata": {},
     "output_type": "execute_result"
    }
   ],
   "source": [
    "# Cột output hiện có kiểu dữ liệu gì?\n",
    "all_houses_df['Giá bán'].dtype"
   ]
  },
  {
   "cell_type": "code",
   "execution_count": 6,
   "metadata": {},
   "outputs": [
    {
     "data": {
      "text/plain": [
       "393"
      ]
     },
     "execution_count": 6,
     "metadata": {},
     "output_type": "execute_result"
    }
   ],
   "source": [
    "# Cột output có giá trị thiếu không?\n",
    "all_houses_df['Giá bán'].isna().sum()"
   ]
  },
  {
   "cell_type": "markdown",
   "metadata": {},
   "source": [
    "#### TIỀN XỬ LÝ OUTPUT"
   ]
  },
  {
   "cell_type": "code",
   "execution_count": 7,
   "metadata": {},
   "outputs": [],
   "source": [
    "# Xoá ouput có giá trị thiếu\n",
    "all_houses_df = all_houses_df[all_houses_df['Giá bán'].notna()]\n",
    "all_houses_df['Giá bán'].isna().sum()\n",
    "all_houses_df = all_houses_df.reset_index(drop = True) "
   ]
  },
  {
   "cell_type": "code",
   "execution_count": 8,
   "metadata": {},
   "outputs": [],
   "source": [
    "# Chuẩn hoá về dạng số\n",
    "\n",
    "# Vị trí các số hảng tỷ\n",
    "mil_index = [] \n",
    "# Vị trí các số hảng triệu\n",
    "bil_index = []\n",
    "\n",
    "for i in range(0, all_houses_df.shape[0]):\n",
    "    value = all_houses_df['Giá bán'][i] \n",
    "    if 'tỷ' in value:\n",
    "        all_houses_df.at[i, 'Giá bán'] = value.rstrip('tỷ')\n",
    "        bil_index.append(i)\n",
    "    elif 'tr' in value:\n",
    "        all_houses_df.at[i, 'Giá bán'] = value.rstrip(' tr')\n",
    "        mil_index.append(i)"
   ]
  },
  {
   "cell_type": "code",
   "execution_count": 9,
   "metadata": {},
   "outputs": [],
   "source": [
    "# Chuyển đơn vị triệu thành tỷ (đồng)\n",
    "all_houses_df['Giá bán'] = all_houses_df['Giá bán'].astype(float)\n",
    "for i in mil_index:\n",
    "    all_houses_df.at[i, 'Giá bán'] = all_houses_df['Giá bán'][i] / 1000"
   ]
  },
  {
   "cell_type": "markdown",
   "metadata": {},
   "source": [
    "### 2. SAU KHI TIỀN XỬ LÝ OUTPUT"
   ]
  },
  {
   "cell_type": "code",
   "execution_count": 10,
   "metadata": {},
   "outputs": [
    {
     "data": {
      "text/plain": [
       "dtype('float64')"
      ]
     },
     "execution_count": 10,
     "metadata": {},
     "output_type": "execute_result"
    }
   ],
   "source": [
    "# Cột output hiện có kiểu dữ liệu gì?\n",
    "all_houses_df['Giá bán'].dtype"
   ]
  },
  {
   "cell_type": "code",
   "execution_count": 11,
   "metadata": {},
   "outputs": [
    {
     "data": {
      "text/plain": [
       "0"
      ]
     },
     "execution_count": 11,
     "metadata": {},
     "output_type": "execute_result"
    }
   ],
   "source": [
    "# Cột output có giá trị thiếu không?\n",
    "all_houses_df['Giá bán'].isna().sum()"
   ]
  }
 ],
 "metadata": {
  "kernelspec": {
   "display_name": "Python 3",
   "language": "python",
   "name": "python3"
  },
  "language_info": {
   "codemirror_mode": {
    "name": "ipython",
    "version": 3
   },
   "file_extension": ".py",
   "mimetype": "text/x-python",
   "name": "python",
   "nbconvert_exporter": "python",
   "pygments_lexer": "ipython3",
   "version": "3.8.3"
  }
 },
 "nbformat": 4,
 "nbformat_minor": 4
}
