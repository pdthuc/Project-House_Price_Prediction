{
 "cells": [
  {
   "cell_type": "markdown",
   "metadata": {},
   "source": [
    "# **TIỀN XỬ LÝ** \n",
    "\n",
    "## Các bước thực hiện:\n",
    " - Kiểm tra và tiền xử lý output \n",
    " - Tách dữ liệu thành 3 tập: train, validaton, test.\n",
    " - Tiến hành tiền xử lý\n"
   ]
  },
  {
   "cell_type": "code",
   "execution_count": 1,
   "metadata": {},
   "outputs": [],
   "source": [
    "# IMPORT THƯ VIỆN\n",
    "%matplotlib inline\n",
    "import matplotlib.pyplot as plt\n",
    "import seaborn as sns # seaborn là thư viện được xây trên matplotlib, giúp việc visualization đỡ khổ hơn\n",
    "import pandas as pd\n",
    "import numpy as np\n",
    "\n",
    "from sklearn.model_selection import train_test_split\n",
    "from sklearn.preprocessing import OneHotEncoder, StandardScaler\n",
    "from sklearn.impute import SimpleImputer\n",
    "from sklearn.base import BaseEstimator, TransformerMixin\n",
    "from sklearn.pipeline import Pipeline, make_pipeline\n",
    "from sklearn.compose import ColumnTransformer, make_column_transformer\n",
    "from sklearn.neural_network import MLPClassifier\n",
    "from sklearn import set_config\n",
    "set_config(display='diagram') # Để trực quan hóa pipeline"
   ]
  },
  {
   "cell_type": "markdown",
   "metadata": {},
   "source": [
    "## Khám phá dữ liệu (đủ để có thể xác định câu hỏi)"
   ]
  },
  {
   "cell_type": "code",
   "execution_count": 2,
   "metadata": {},
   "outputs": [
    {
     "data": {
      "text/html": [
       "<div>\n",
       "<style scoped>\n",
       "    .dataframe tbody tr th:only-of-type {\n",
       "        vertical-align: middle;\n",
       "    }\n",
       "\n",
       "    .dataframe tbody tr th {\n",
       "        vertical-align: top;\n",
       "    }\n",
       "\n",
       "    .dataframe thead th {\n",
       "        text-align: right;\n",
       "    }\n",
       "</style>\n",
       "<table border=\"1\" class=\"dataframe\">\n",
       "  <thead>\n",
       "    <tr style=\"text-align: right;\">\n",
       "      <th></th>\n",
       "      <th>Loại hình</th>\n",
       "      <th>Phòng ngủ</th>\n",
       "      <th>Phòng tắm</th>\n",
       "      <th>Diện tích</th>\n",
       "      <th>Tình hình nội thất</th>\n",
       "      <th>Dự án</th>\n",
       "      <th>Tháp</th>\n",
       "      <th>Giá bán</th>\n",
       "      <th>Ban công</th>\n",
       "      <th>Phòng cho giúp việc</th>\n",
       "      <th>...</th>\n",
       "      <th>Vườn tiểu cảnh</th>\n",
       "      <th>khuôn viên đi dạo</th>\n",
       "      <th>Khu vui chơi trẻ em</th>\n",
       "      <th>Giếng trời</th>\n",
       "      <th>Gác Lửng</th>\n",
       "      <th>Quạt trần hàng Ngoại</th>\n",
       "      <th>Hồ cá</th>\n",
       "      <th>3 máy lạnh</th>\n",
       "      <th>1 phòng thờ</th>\n",
       "      <th>1 sân phơi</th>\n",
       "    </tr>\n",
       "  </thead>\n",
       "  <tbody>\n",
       "    <tr>\n",
       "      <th>0</th>\n",
       "      <td>Căn hộ</td>\n",
       "      <td>3.0</td>\n",
       "      <td>2.0</td>\n",
       "      <td>83.15 m²</td>\n",
       "      <td>Đầy đủ nội thất</td>\n",
       "      <td>Sunrise Riverside</td>\n",
       "      <td>G1</td>\n",
       "      <td>4.19 tỷ</td>\n",
       "      <td>No</td>\n",
       "      <td>No</td>\n",
       "      <td>...</td>\n",
       "      <td>NaN</td>\n",
       "      <td>NaN</td>\n",
       "      <td>NaN</td>\n",
       "      <td>NaN</td>\n",
       "      <td>NaN</td>\n",
       "      <td>NaN</td>\n",
       "      <td>NaN</td>\n",
       "      <td>NaN</td>\n",
       "      <td>NaN</td>\n",
       "      <td>NaN</td>\n",
       "    </tr>\n",
       "    <tr>\n",
       "      <th>1</th>\n",
       "      <td>Căn hộ</td>\n",
       "      <td>1.0</td>\n",
       "      <td>1.0</td>\n",
       "      <td>53.2 m²</td>\n",
       "      <td>Nội thất cơ bản</td>\n",
       "      <td>Q7 Saigon Riverside</td>\n",
       "      <td>MERCURY</td>\n",
       "      <td>1.87 tỷ</td>\n",
       "      <td>No</td>\n",
       "      <td>No</td>\n",
       "      <td>...</td>\n",
       "      <td>NaN</td>\n",
       "      <td>NaN</td>\n",
       "      <td>NaN</td>\n",
       "      <td>NaN</td>\n",
       "      <td>NaN</td>\n",
       "      <td>NaN</td>\n",
       "      <td>NaN</td>\n",
       "      <td>NaN</td>\n",
       "      <td>NaN</td>\n",
       "      <td>NaN</td>\n",
       "    </tr>\n",
       "    <tr>\n",
       "      <th>2</th>\n",
       "      <td>Căn hộ</td>\n",
       "      <td>3.0</td>\n",
       "      <td>2.0</td>\n",
       "      <td>105.8 m²</td>\n",
       "      <td>Nội thất cơ bản</td>\n",
       "      <td>Vinhomes Central Park</td>\n",
       "      <td>NaN</td>\n",
       "      <td>6.5 tỷ</td>\n",
       "      <td>Yes</td>\n",
       "      <td>No</td>\n",
       "      <td>...</td>\n",
       "      <td>NaN</td>\n",
       "      <td>NaN</td>\n",
       "      <td>NaN</td>\n",
       "      <td>NaN</td>\n",
       "      <td>NaN</td>\n",
       "      <td>NaN</td>\n",
       "      <td>NaN</td>\n",
       "      <td>NaN</td>\n",
       "      <td>NaN</td>\n",
       "      <td>NaN</td>\n",
       "    </tr>\n",
       "    <tr>\n",
       "      <th>3</th>\n",
       "      <td>Căn hộ</td>\n",
       "      <td>2.0</td>\n",
       "      <td>2.0</td>\n",
       "      <td>106.1 m²</td>\n",
       "      <td>Nội thất cơ bản</td>\n",
       "      <td>Sunrise City</td>\n",
       "      <td>NaN</td>\n",
       "      <td>4.25 tỷ</td>\n",
       "      <td>No</td>\n",
       "      <td>No</td>\n",
       "      <td>...</td>\n",
       "      <td>NaN</td>\n",
       "      <td>NaN</td>\n",
       "      <td>NaN</td>\n",
       "      <td>NaN</td>\n",
       "      <td>NaN</td>\n",
       "      <td>NaN</td>\n",
       "      <td>NaN</td>\n",
       "      <td>NaN</td>\n",
       "      <td>NaN</td>\n",
       "      <td>NaN</td>\n",
       "    </tr>\n",
       "    <tr>\n",
       "      <th>4</th>\n",
       "      <td>Căn hộ</td>\n",
       "      <td>2.0</td>\n",
       "      <td>1.0</td>\n",
       "      <td>60 m²</td>\n",
       "      <td>Đầy đủ nội thất</td>\n",
       "      <td>Vinhomes Grand Park</td>\n",
       "      <td>S2.05</td>\n",
       "      <td>2.65 tỷ</td>\n",
       "      <td>No</td>\n",
       "      <td>No</td>\n",
       "      <td>...</td>\n",
       "      <td>NaN</td>\n",
       "      <td>NaN</td>\n",
       "      <td>NaN</td>\n",
       "      <td>NaN</td>\n",
       "      <td>NaN</td>\n",
       "      <td>NaN</td>\n",
       "      <td>NaN</td>\n",
       "      <td>NaN</td>\n",
       "      <td>NaN</td>\n",
       "      <td>NaN</td>\n",
       "    </tr>\n",
       "    <tr>\n",
       "      <th>...</th>\n",
       "      <td>...</td>\n",
       "      <td>...</td>\n",
       "      <td>...</td>\n",
       "      <td>...</td>\n",
       "      <td>...</td>\n",
       "      <td>...</td>\n",
       "      <td>...</td>\n",
       "      <td>...</td>\n",
       "      <td>...</td>\n",
       "      <td>...</td>\n",
       "      <td>...</td>\n",
       "      <td>...</td>\n",
       "      <td>...</td>\n",
       "      <td>...</td>\n",
       "      <td>...</td>\n",
       "      <td>...</td>\n",
       "      <td>...</td>\n",
       "      <td>...</td>\n",
       "      <td>...</td>\n",
       "      <td>...</td>\n",
       "      <td>...</td>\n",
       "    </tr>\n",
       "    <tr>\n",
       "      <th>7149</th>\n",
       "      <td>Căn hộ</td>\n",
       "      <td>1.0</td>\n",
       "      <td>1.0</td>\n",
       "      <td>52.13 m²</td>\n",
       "      <td>Nội thất cơ bản</td>\n",
       "      <td>City Gate 3</td>\n",
       "      <td>NaN</td>\n",
       "      <td>1.43 tỷ</td>\n",
       "      <td>No</td>\n",
       "      <td>No</td>\n",
       "      <td>...</td>\n",
       "      <td>NaN</td>\n",
       "      <td>NaN</td>\n",
       "      <td>NaN</td>\n",
       "      <td>NaN</td>\n",
       "      <td>NaN</td>\n",
       "      <td>NaN</td>\n",
       "      <td>NaN</td>\n",
       "      <td>NaN</td>\n",
       "      <td>NaN</td>\n",
       "      <td>NaN</td>\n",
       "    </tr>\n",
       "    <tr>\n",
       "      <th>7150</th>\n",
       "      <td>Căn hộ</td>\n",
       "      <td>1.0</td>\n",
       "      <td>1.0</td>\n",
       "      <td>50 m²</td>\n",
       "      <td>Nội thất cơ bản</td>\n",
       "      <td>The Metropole Thủ Thiêm</td>\n",
       "      <td>NaN</td>\n",
       "      <td>7.8 tỷ</td>\n",
       "      <td>Yes</td>\n",
       "      <td>No</td>\n",
       "      <td>...</td>\n",
       "      <td>NaN</td>\n",
       "      <td>NaN</td>\n",
       "      <td>NaN</td>\n",
       "      <td>NaN</td>\n",
       "      <td>NaN</td>\n",
       "      <td>NaN</td>\n",
       "      <td>NaN</td>\n",
       "      <td>NaN</td>\n",
       "      <td>NaN</td>\n",
       "      <td>NaN</td>\n",
       "    </tr>\n",
       "    <tr>\n",
       "      <th>7151</th>\n",
       "      <td>Căn hộ</td>\n",
       "      <td>2.0</td>\n",
       "      <td>1.0</td>\n",
       "      <td>59 m²</td>\n",
       "      <td>Nội thất cơ bản</td>\n",
       "      <td>Vinhomes Grand Park</td>\n",
       "      <td>S3.01</td>\n",
       "      <td>2.53 tỷ</td>\n",
       "      <td>No</td>\n",
       "      <td>No</td>\n",
       "      <td>...</td>\n",
       "      <td>NaN</td>\n",
       "      <td>NaN</td>\n",
       "      <td>NaN</td>\n",
       "      <td>NaN</td>\n",
       "      <td>NaN</td>\n",
       "      <td>NaN</td>\n",
       "      <td>NaN</td>\n",
       "      <td>NaN</td>\n",
       "      <td>NaN</td>\n",
       "      <td>NaN</td>\n",
       "    </tr>\n",
       "    <tr>\n",
       "      <th>7152</th>\n",
       "      <td>Căn hộ</td>\n",
       "      <td>2.0</td>\n",
       "      <td>2.0</td>\n",
       "      <td>70.5 m²</td>\n",
       "      <td>Nội thất cơ bản</td>\n",
       "      <td>Precia</td>\n",
       "      <td>NaN</td>\n",
       "      <td>3.95 tỷ</td>\n",
       "      <td>No</td>\n",
       "      <td>No</td>\n",
       "      <td>...</td>\n",
       "      <td>NaN</td>\n",
       "      <td>NaN</td>\n",
       "      <td>NaN</td>\n",
       "      <td>NaN</td>\n",
       "      <td>NaN</td>\n",
       "      <td>NaN</td>\n",
       "      <td>NaN</td>\n",
       "      <td>NaN</td>\n",
       "      <td>NaN</td>\n",
       "      <td>NaN</td>\n",
       "    </tr>\n",
       "    <tr>\n",
       "      <th>7153</th>\n",
       "      <td>Căn hộ</td>\n",
       "      <td>1.0</td>\n",
       "      <td>1.0</td>\n",
       "      <td>61 m²</td>\n",
       "      <td>Đầy đủ nội thất</td>\n",
       "      <td>The Sun Avenue</td>\n",
       "      <td>Block 4</td>\n",
       "      <td>2.95 tỷ</td>\n",
       "      <td>No</td>\n",
       "      <td>No</td>\n",
       "      <td>...</td>\n",
       "      <td>NaN</td>\n",
       "      <td>NaN</td>\n",
       "      <td>NaN</td>\n",
       "      <td>NaN</td>\n",
       "      <td>NaN</td>\n",
       "      <td>NaN</td>\n",
       "      <td>NaN</td>\n",
       "      <td>NaN</td>\n",
       "      <td>NaN</td>\n",
       "      <td>NaN</td>\n",
       "    </tr>\n",
       "  </tbody>\n",
       "</table>\n",
       "<p>7154 rows × 120 columns</p>\n",
       "</div>"
      ],
      "text/plain": [
       "     Loại hình  Phòng ngủ  Phòng tắm Diện tích Tình hình nội thất  \\\n",
       "0       Căn hộ        3.0        2.0  83.15 m²    Đầy đủ nội thất   \n",
       "1       Căn hộ        1.0        1.0   53.2 m²    Nội thất cơ bản   \n",
       "2       Căn hộ        3.0        2.0  105.8 m²    Nội thất cơ bản   \n",
       "3       Căn hộ        2.0        2.0  106.1 m²    Nội thất cơ bản   \n",
       "4       Căn hộ        2.0        1.0     60 m²    Đầy đủ nội thất   \n",
       "...        ...        ...        ...       ...                ...   \n",
       "7149    Căn hộ        1.0        1.0  52.13 m²    Nội thất cơ bản   \n",
       "7150    Căn hộ        1.0        1.0     50 m²    Nội thất cơ bản   \n",
       "7151    Căn hộ        2.0        1.0     59 m²    Nội thất cơ bản   \n",
       "7152    Căn hộ        2.0        2.0   70.5 m²    Nội thất cơ bản   \n",
       "7153    Căn hộ        1.0        1.0     61 m²    Đầy đủ nội thất   \n",
       "\n",
       "                        Dự án     Tháp  Giá bán Ban công Phòng cho giúp việc  \\\n",
       "0           Sunrise Riverside       G1  4.19 tỷ       No                  No   \n",
       "1         Q7 Saigon Riverside  MERCURY  1.87 tỷ       No                  No   \n",
       "2       Vinhomes Central Park      NaN   6.5 tỷ      Yes                  No   \n",
       "3                Sunrise City      NaN  4.25 tỷ       No                  No   \n",
       "4         Vinhomes Grand Park    S2.05  2.65 tỷ       No                  No   \n",
       "...                       ...      ...      ...      ...                 ...   \n",
       "7149              City Gate 3      NaN  1.43 tỷ       No                  No   \n",
       "7150  The Metropole Thủ Thiêm      NaN   7.8 tỷ      Yes                  No   \n",
       "7151      Vinhomes Grand Park    S3.01  2.53 tỷ       No                  No   \n",
       "7152                   Precia      NaN  3.95 tỷ       No                  No   \n",
       "7153           The Sun Avenue  Block 4  2.95 tỷ       No                  No   \n",
       "\n",
       "      ... Vườn tiểu cảnh khuôn viên đi dạo Khu vui chơi trẻ em Giếng trời  \\\n",
       "0     ...            NaN               NaN                 NaN        NaN   \n",
       "1     ...            NaN               NaN                 NaN        NaN   \n",
       "2     ...            NaN               NaN                 NaN        NaN   \n",
       "3     ...            NaN               NaN                 NaN        NaN   \n",
       "4     ...            NaN               NaN                 NaN        NaN   \n",
       "...   ...            ...               ...                 ...        ...   \n",
       "7149  ...            NaN               NaN                 NaN        NaN   \n",
       "7150  ...            NaN               NaN                 NaN        NaN   \n",
       "7151  ...            NaN               NaN                 NaN        NaN   \n",
       "7152  ...            NaN               NaN                 NaN        NaN   \n",
       "7153  ...            NaN               NaN                 NaN        NaN   \n",
       "\n",
       "     Gác Lửng Quạt trần hàng Ngoại Hồ cá 3 máy lạnh 1 phòng thờ 1 sân phơi  \n",
       "0         NaN                  NaN   NaN        NaN         NaN        NaN  \n",
       "1         NaN                  NaN   NaN        NaN         NaN        NaN  \n",
       "2         NaN                  NaN   NaN        NaN         NaN        NaN  \n",
       "3         NaN                  NaN   NaN        NaN         NaN        NaN  \n",
       "4         NaN                  NaN   NaN        NaN         NaN        NaN  \n",
       "...       ...                  ...   ...        ...         ...        ...  \n",
       "7149      NaN                  NaN   NaN        NaN         NaN        NaN  \n",
       "7150      NaN                  NaN   NaN        NaN         NaN        NaN  \n",
       "7151      NaN                  NaN   NaN        NaN         NaN        NaN  \n",
       "7152      NaN                  NaN   NaN        NaN         NaN        NaN  \n",
       "7153      NaN                  NaN   NaN        NaN         NaN        NaN  \n",
       "\n",
       "[7154 rows x 120 columns]"
      ]
     },
     "execution_count": 2,
     "metadata": {},
     "output_type": "execute_result"
    }
   ],
   "source": [
    "data = pd.read_csv('HOUSEs_info.csv', sep = '\\t')\n",
    "data"
   ]
  },
  {
   "cell_type": "markdown",
   "metadata": {},
   "source": [
    "### Dữ liệu có bao nhiêu dòng và bao nhiêu cột?"
   ]
  },
  {
   "cell_type": "code",
   "execution_count": 3,
   "metadata": {},
   "outputs": [
    {
     "data": {
      "text/plain": [
       "(7154, 120)"
      ]
     },
     "execution_count": 3,
     "metadata": {},
     "output_type": "execute_result"
    }
   ],
   "source": [
    "data.shape\n"
   ]
  },
  {
   "cell_type": "markdown",
   "metadata": {},
   "source": [
    "### Dữ liệu có các dòng bị lặp không?"
   ]
  },
  {
   "cell_type": "code",
   "execution_count": 4,
   "metadata": {},
   "outputs": [
    {
     "data": {
      "text/plain": [
       "0"
      ]
     },
     "execution_count": 4,
     "metadata": {},
     "output_type": "execute_result"
    }
   ],
   "source": [
    "data.index.duplicated().sum()"
   ]
  },
  {
   "cell_type": "markdown",
   "metadata": {},
   "source": [
    "## Đưa ra câu hỏi cần trả lời\n",
    "*Output - Giá bán -* được tính từ *input - các thông tin của hành khách -* theo công thức nào?\n",
    " Trong đồ án này, ý nghĩa thực tế của việc đi tìm câu trả lời cho câu hỏi trên giúp người dùng có được 1 sự tham khảo với 1 độ chính xác cụ thể về giá nhà dựa trên các thông tin. Qua đó, người dùng có thể dựa trên dự đoán để tự đưa ra quyết định về việc mua (bán) nhà với một mức giá hợp lý.  \n"
   ]
  },
  {
   "cell_type": "markdown",
   "metadata": {},
   "source": [
    "## Khám phá dữ liệu \n",
    "### 1. OUTPUT TRƯỚC KHI TIỀN XỬ LÝ"
   ]
  },
  {
   "cell_type": "code",
   "execution_count": 5,
   "metadata": {},
   "outputs": [
    {
     "data": {
      "text/plain": [
       "dtype('O')"
      ]
     },
     "execution_count": 5,
     "metadata": {},
     "output_type": "execute_result"
    }
   ],
   "source": [
    "# Cột output hiện có kiểu dữ liệu gì?\n",
    "data['Giá bán'].dtype"
   ]
  },
  {
   "cell_type": "code",
   "execution_count": 6,
   "metadata": {},
   "outputs": [
    {
     "data": {
      "text/plain": [
       "396"
      ]
     },
     "execution_count": 6,
     "metadata": {},
     "output_type": "execute_result"
    }
   ],
   "source": [
    "# Cột output có giá trị thiếu không?\n",
    "data['Giá bán'].isna().sum()"
   ]
  },
  {
   "cell_type": "markdown",
   "metadata": {},
   "source": [
    "#### TIỀN XỬ LÝ OUTPUT"
   ]
  },
  {
   "cell_type": "code",
   "execution_count": 7,
   "metadata": {},
   "outputs": [],
   "source": [
    "# Xoá ouput có giá trị thiếu\n",
    "data = data[data['Giá bán'].notna()]\n",
    "data['Giá bán'].isna().sum()\n",
    "data = data.reset_index(drop = True) "
   ]
  },
  {
   "cell_type": "code",
   "execution_count": 8,
   "metadata": {},
   "outputs": [],
   "source": [
    "# Chuẩn hoá về dạng số\n",
    "\n",
    "# Vị trí các số hảng tỷ\n",
    "mil_index = [] \n",
    "# Vị trí các số hảng triệu\n",
    "bil_index = []\n",
    "\n",
    "for i in range(0, data.shape[0]):\n",
    "    value = data['Giá bán'][i] \n",
    "    if 'tỷ' in value:\n",
    "        data.at[i, 'Giá bán'] = value.rstrip('tỷ')\n",
    "        bil_index.append(i)\n",
    "    elif 'tr' in value:\n",
    "        data.at[i, 'Giá bán'] = value.rstrip(' tr')\n",
    "        mil_index.append(i)"
   ]
  },
  {
   "cell_type": "code",
   "execution_count": 9,
   "metadata": {},
   "outputs": [],
   "source": [
    "# Chuyển đơn vị triệu thành tỷ (đồng)\n",
    "data['Giá bán'] = data['Giá bán'].astype(float)\n",
    "for i in mil_index:\n",
    "    data.at[i, 'Giá bán'] = data['Giá bán'][i] / 1000"
   ]
  },
  {
   "cell_type": "markdown",
   "metadata": {},
   "source": [
    "### 2. SAU KHI TIỀN XỬ LÝ OUTPUT"
   ]
  },
  {
   "cell_type": "code",
   "execution_count": 10,
   "metadata": {},
   "outputs": [
    {
     "data": {
      "text/plain": [
       "dtype('float64')"
      ]
     },
     "execution_count": 10,
     "metadata": {},
     "output_type": "execute_result"
    }
   ],
   "source": [
    "# Cột output hiện có kiểu dữ liệu gì?\n",
    "data['Giá bán'].dtype"
   ]
  },
  {
   "cell_type": "code",
   "execution_count": 11,
   "metadata": {},
   "outputs": [
    {
     "data": {
      "text/plain": [
       "0"
      ]
     },
     "execution_count": 11,
     "metadata": {},
     "output_type": "execute_result"
    }
   ],
   "source": [
    "# Cột output có giá trị thiếu không?\n",
    "data['Giá bán'].isna().sum()"
   ]
  },
  {
   "cell_type": "markdown",
   "metadata": {},
   "source": [
    "## Tiền xử lý (tách các tập)\n",
    "    Ta tách các tập từ dữ liệu thu thập được thành 3 tập: train, validation và test theo tỉ lệ 70%:15%:15%"
   ]
  },
  {
   "cell_type": "code",
   "execution_count": 12,
   "metadata": {},
   "outputs": [],
   "source": [
    "# Tách X và y\n",
    "y_sr = data['Giá bán'] # sr là viết tắt của series\n",
    "X_df = data.drop(\"Giá bán\", axis=1)"
   ]
  },
  {
   "cell_type": "code",
   "execution_count": 13,
   "metadata": {},
   "outputs": [
    {
     "data": {
      "text/plain": [
       "((4730, 119), (1014, 119), (1014, 119), (4730,), (1014,), (1014,))"
      ]
     },
     "execution_count": 13,
     "metadata": {},
     "output_type": "execute_result"
    }
   ],
   "source": [
    "# Tách theo tỉ lệ: 7:2:1\n",
    "# Tách dữ liệu thu thập thành 2 tập: tập huấn luyện và tập other (validation và test) theo tỉ lệ 60%:40%\n",
    "train_X_df, other_X_df, train_y_sr, other_y_sr = train_test_split(X_df, y_sr, test_size=0.3, random_state=0)\n",
    "\n",
    "# Tách tập other (validation và test) thành 2 tập: tập validation và tập test theo tỉ lệ 50%:50% (tức: bằng 15%:15% so với dữ liệu ban đầu)\n",
    "val_X_df, test_X_df, val_y_sr, test_y_sr = train_test_split(other_X_df, other_y_sr, test_size=0.5, random_state=0)\n",
    "\n",
    "train_X_df.shape, val_X_df.shape, test_X_df.shape, train_y_sr.shape, val_y_sr.shape, test_y_sr.shape"
   ]
  },
  {
   "cell_type": "markdown",
   "metadata": {},
   "source": [
    "## Khám phá dữ liệu (tập huấn luyện)"
   ]
  },
  {
   "cell_type": "code",
   "execution_count": 14,
   "metadata": {},
   "outputs": [
    {
     "data": {
      "text/plain": [
       "Loại hình                object\n",
       "Phòng ngủ               float64\n",
       "Phòng tắm               float64\n",
       "Diện tích                object\n",
       "Tình hình nội thất       object\n",
       "                         ...   \n",
       "Quạt trần hàng Ngoại     object\n",
       "Hồ cá                    object\n",
       "3 máy lạnh               object\n",
       "1 phòng thờ              object\n",
       "1 sân phơi               object\n",
       "Length: 119, dtype: object"
      ]
     },
     "execution_count": 14,
     "metadata": {},
     "output_type": "execute_result"
    }
   ],
   "source": [
    "train_X_df.dtypes"
   ]
  },
  {
   "cell_type": "code",
   "execution_count": 15,
   "metadata": {},
   "outputs": [
    {
     "data": {
      "text/plain": [
       "Phòng ngủ    float64\n",
       "Phòng tắm    float64\n",
       "Số tầng      float64\n",
       "dtype: object"
      ]
     },
     "execution_count": 15,
     "metadata": {},
     "output_type": "execute_result"
    }
   ],
   "source": [
    "train_X_df.dtypes[train_X_df.dtypes != object]"
   ]
  },
  {
   "cell_type": "code",
   "execution_count": 16,
   "metadata": {},
   "outputs": [],
   "source": [
    "dropped_col = []"
   ]
  },
  {
   "cell_type": "code",
   "execution_count": 17,
   "metadata": {},
   "outputs": [
    {
     "data": {
      "text/html": [
       "<div>\n",
       "<style scoped>\n",
       "    .dataframe tbody tr th:only-of-type {\n",
       "        vertical-align: middle;\n",
       "    }\n",
       "\n",
       "    .dataframe tbody tr th {\n",
       "        vertical-align: top;\n",
       "    }\n",
       "\n",
       "    .dataframe thead th {\n",
       "        text-align: right;\n",
       "    }\n",
       "</style>\n",
       "<table border=\"1\" class=\"dataframe\">\n",
       "  <thead>\n",
       "    <tr style=\"text-align: right;\">\n",
       "      <th></th>\n",
       "      <th>Phòng ngủ</th>\n",
       "      <th>Phòng tắm</th>\n",
       "      <th>Số tầng</th>\n",
       "    </tr>\n",
       "  </thead>\n",
       "  <tbody>\n",
       "    <tr>\n",
       "      <th>missing_ratio</th>\n",
       "      <td>2.0</td>\n",
       "      <td>2.4</td>\n",
       "      <td>47.6</td>\n",
       "    </tr>\n",
       "    <tr>\n",
       "      <th>min</th>\n",
       "      <td>0.0</td>\n",
       "      <td>1.0</td>\n",
       "      <td>1.0</td>\n",
       "    </tr>\n",
       "    <tr>\n",
       "      <th>lower_quartile</th>\n",
       "      <td>2.0</td>\n",
       "      <td>1.0</td>\n",
       "      <td>3.0</td>\n",
       "    </tr>\n",
       "    <tr>\n",
       "      <th>median</th>\n",
       "      <td>2.0</td>\n",
       "      <td>2.0</td>\n",
       "      <td>9.0</td>\n",
       "    </tr>\n",
       "    <tr>\n",
       "      <th>upper_quartile</th>\n",
       "      <td>2.0</td>\n",
       "      <td>2.0</td>\n",
       "      <td>17.0</td>\n",
       "    </tr>\n",
       "    <tr>\n",
       "      <th>max</th>\n",
       "      <td>31.0</td>\n",
       "      <td>32.0</td>\n",
       "      <td>44.0</td>\n",
       "    </tr>\n",
       "  </tbody>\n",
       "</table>\n",
       "</div>"
      ],
      "text/plain": [
       "                Phòng ngủ  Phòng tắm  Số tầng\n",
       "missing_ratio         2.0        2.4     47.6\n",
       "min                   0.0        1.0      1.0\n",
       "lower_quartile        2.0        1.0      3.0\n",
       "median                2.0        2.0      9.0\n",
       "upper_quartile        2.0        2.0     17.0\n",
       "max                  31.0       32.0     44.0"
      ]
     },
     "execution_count": 17,
     "metadata": {},
     "output_type": "execute_result"
    }
   ],
   "source": [
    "\n",
    "\n",
    "# Các cột dạng số\n",
    "num_cols = ['Phòng ngủ', 'Phòng tắm', 'Số tầng']\n",
    "df = train_X_df[num_cols]\n",
    "def missing_ratio(df):\n",
    "    return (df.isna().mean() * 100).round(1)\n",
    "def lower_quartile(df):\n",
    "    return df.quantile(0.25).round(1)\n",
    "def median(df):\n",
    "    return df.quantile(0.5).round(1)\n",
    "def upper_quartile(df):\n",
    "    return df.quantile(0.75).round(1)\n",
    "df.agg([missing_ratio, 'min', lower_quartile, median, upper_quartile, 'max'])"
   ]
  },
  {
   "cell_type": "code",
   "execution_count": 18,
   "metadata": {},
   "outputs": [
    {
     "data": {
      "text/html": [
       "<div>\n",
       "<style scoped>\n",
       "    .dataframe tbody tr th:only-of-type {\n",
       "        vertical-align: middle;\n",
       "    }\n",
       "\n",
       "    .dataframe tbody tr th {\n",
       "        vertical-align: top;\n",
       "    }\n",
       "\n",
       "    .dataframe thead th {\n",
       "        text-align: right;\n",
       "    }\n",
       "</style>\n",
       "<table border=\"1\" class=\"dataframe\">\n",
       "  <thead>\n",
       "    <tr style=\"text-align: right;\">\n",
       "      <th></th>\n",
       "      <th>Khóa cửa thẻ từ</th>\n",
       "      <th>Tủ bếp dưới\\n</th>\n",
       "      <th>Chiều dài</th>\n",
       "      <th>Thời gian bắt đầu bán</th>\n",
       "      <th>Diện tích sàn</th>\n",
       "      <th>Chủ đầu tư Singapore Thảo Điền</th>\n",
       "      <th>Số phòng tắm</th>\n",
       "      <th>Rèm</th>\n",
       "      <th>Chỗ đậu xe hơi</th>\n",
       "      <th>Gác Lửng</th>\n",
       "      <th>...</th>\n",
       "      <th>Quạt trần hàng Ngoại</th>\n",
       "      <th>Bộ bàn ăn và ghế</th>\n",
       "      <th>Tủ treo đồ / tủ quần áo</th>\n",
       "      <th>Máy giặt</th>\n",
       "      <th>Giá đăng</th>\n",
       "      <th>Loại hình</th>\n",
       "      <th>Loại chủ quyền</th>\n",
       "      <th>Máy sấy</th>\n",
       "      <th>Nhà trống</th>\n",
       "      <th>Mã nhà đất</th>\n",
       "    </tr>\n",
       "  </thead>\n",
       "  <tbody>\n",
       "    <tr>\n",
       "      <th>missing_ratio</th>\n",
       "      <td>0</td>\n",
       "      <td>99.7</td>\n",
       "      <td>98.8</td>\n",
       "      <td>85.5</td>\n",
       "      <td>99.3</td>\n",
       "      <td>100</td>\n",
       "      <td>100</td>\n",
       "      <td>100</td>\n",
       "      <td>0</td>\n",
       "      <td>100</td>\n",
       "      <td>...</td>\n",
       "      <td>100</td>\n",
       "      <td>2</td>\n",
       "      <td>2</td>\n",
       "      <td>0</td>\n",
       "      <td>100</td>\n",
       "      <td>0</td>\n",
       "      <td>28.5</td>\n",
       "      <td>0</td>\n",
       "      <td>100</td>\n",
       "      <td>100</td>\n",
       "    </tr>\n",
       "    <tr>\n",
       "      <th>num_values</th>\n",
       "      <td>2</td>\n",
       "      <td>1</td>\n",
       "      <td>23</td>\n",
       "      <td>396</td>\n",
       "      <td>32</td>\n",
       "      <td>1</td>\n",
       "      <td>0</td>\n",
       "      <td>1</td>\n",
       "      <td>2</td>\n",
       "      <td>0</td>\n",
       "      <td>...</td>\n",
       "      <td>0</td>\n",
       "      <td>2</td>\n",
       "      <td>2</td>\n",
       "      <td>2</td>\n",
       "      <td>0</td>\n",
       "      <td>14</td>\n",
       "      <td>4</td>\n",
       "      <td>2</td>\n",
       "      <td>1</td>\n",
       "      <td>0</td>\n",
       "    </tr>\n",
       "    <tr>\n",
       "      <th>value_ratios</th>\n",
       "      <td>{'No': 99.1, 'Yes': 0.9}</td>\n",
       "      <td>{'No': 100.0}</td>\n",
       "      <td>{'20 m': 25.0, '17 m': 10.7, '19 m': 7.1, '18 m': 5.4, '13 m': 5.4, '14 m': 5.4, '15 m': 5.4, '25 m': 3.6, '12 m': 3.6, '27 m': 3.6, '40 m': 3.6, '60 m': 1.8, '22 m': 1.8, '33 m': 1.8, '30 m': 1.8...</td>\n",
       "      <td>{'28/09/2020': 1.9, '07/12/2020': 1.5, '16/12/2020': 1.5, '26/11/2020': 1.3, '18/12/2020': 1.3, '24/10/2017': 1.0, '27/12/2021': 1.0, '08/12/2020': 1.0, '25/11/2020': 1.0, '08/02/2017': 0.9, '26/1...</td>\n",
       "      <td>{'160 m²': 8.8, '71 m²': 2.9, '200.9 m²': 2.9, '303 m²': 2.9, '72 m²': 2.9, '326.3 m²': 2.9, '170 m²': 2.9, '519 m²': 2.9, '356 m²': 2.9, '167.6 m²': 2.9, '167 m²': 2.9, '400 m²': 2.9, '140 m²': 2...</td>\n",
       "      <td>{'Yes': 100.0}</td>\n",
       "      <td>{}</td>\n",
       "      <td>{'Yes': 100.0}</td>\n",
       "      <td>{'No': 88.9, 'Yes': 11.1}</td>\n",
       "      <td>{}</td>\n",
       "      <td>...</td>\n",
       "      <td>{}</td>\n",
       "      <td>{'No': 92.3, 'Yes': 7.7}</td>\n",
       "      <td>{'No': 91.1, 'Yes': 8.9}</td>\n",
       "      <td>{'No': 98.7, 'Yes': 1.3}</td>\n",
       "      <td>{}</td>\n",
       "      <td>{'Căn hộ': 80.6, 'Nhà phố': 12.3, 'Office-tel': 3.7, 'Đất nền': 0.8, 'Shophouse': 0.8, 'Biệt thự': 0.6, 'Penthouse': 0.5, 'Văn phòng': 0.4, 'Căn hộ dịch vụ': 0.1, 'Loại khác': 0.1, 'Lofthouse': 0....</td>\n",
       "      <td>{'HĐ mua bán': 72.6, 'Sổ hồng': 25.4, 'Sổ đỏ': 2.0, 'Giấy tay': 0.0}</td>\n",
       "      <td>{'No': 99.7, 'Yes': 0.3}</td>\n",
       "      <td>{'Yes': 100.0}</td>\n",
       "      <td>{}</td>\n",
       "    </tr>\n",
       "  </tbody>\n",
       "</table>\n",
       "<p>3 rows × 116 columns</p>\n",
       "</div>"
      ],
      "text/plain": [
       "                        Khóa cửa thẻ từ Tủ bếp dưới\\n   \\\n",
       "missing_ratio                         0           99.7   \n",
       "num_values                            2              1   \n",
       "value_ratios   {'No': 99.1, 'Yes': 0.9}  {'No': 100.0}   \n",
       "\n",
       "                                                                                                                                                                                                             Chiều dài  \\\n",
       "missing_ratio                                                                                                                                                                                                     98.8   \n",
       "num_values                                                                                                                                                                                                          23   \n",
       "value_ratios   {'20 m': 25.0, '17 m': 10.7, '19 m': 7.1, '18 m': 5.4, '13 m': 5.4, '14 m': 5.4, '15 m': 5.4, '25 m': 3.6, '12 m': 3.6, '27 m': 3.6, '40 m': 3.6, '60 m': 1.8, '22 m': 1.8, '33 m': 1.8, '30 m': 1.8...   \n",
       "\n",
       "                                                                                                                                                                                                 Thời gian bắt đầu bán  \\\n",
       "missing_ratio                                                                                                                                                                                                     85.5   \n",
       "num_values                                                                                                                                                                                                         396   \n",
       "value_ratios   {'28/09/2020': 1.9, '07/12/2020': 1.5, '16/12/2020': 1.5, '26/11/2020': 1.3, '18/12/2020': 1.3, '24/10/2017': 1.0, '27/12/2021': 1.0, '08/12/2020': 1.0, '25/11/2020': 1.0, '08/02/2017': 0.9, '26/1...   \n",
       "\n",
       "                                                                                                                                                                                                         Diện tích sàn  \\\n",
       "missing_ratio                                                                                                                                                                                                     99.3   \n",
       "num_values                                                                                                                                                                                                          32   \n",
       "value_ratios   {'160 m²': 8.8, '71 m²': 2.9, '200.9 m²': 2.9, '303 m²': 2.9, '72 m²': 2.9, '326.3 m²': 2.9, '170 m²': 2.9, '519 m²': 2.9, '356 m²': 2.9, '167.6 m²': 2.9, '167 m²': 2.9, '400 m²': 2.9, '140 m²': 2...   \n",
       "\n",
       "              Chủ đầu tư Singapore Thảo Điền Số phòng tắm             Rèm  \\\n",
       "missing_ratio                            100          100             100   \n",
       "num_values                                 1            0               1   \n",
       "value_ratios                  {'Yes': 100.0}           {}  {'Yes': 100.0}   \n",
       "\n",
       "                          Chỗ đậu xe hơi Gác Lửng  ... Quạt trần hàng Ngoại  \\\n",
       "missing_ratio                          0      100  ...                  100   \n",
       "num_values                             2        0  ...                    0   \n",
       "value_ratios   {'No': 88.9, 'Yes': 11.1}       {}  ...                   {}   \n",
       "\n",
       "                       Bộ bàn ăn và ghế   Tủ treo đồ / tủ quần áo  \\\n",
       "missing_ratio                         2                         2   \n",
       "num_values                            2                         2   \n",
       "value_ratios   {'No': 92.3, 'Yes': 7.7}  {'No': 91.1, 'Yes': 8.9}   \n",
       "\n",
       "                               Máy giặt Giá đăng  \\\n",
       "missing_ratio                         0      100   \n",
       "num_values                            2        0   \n",
       "value_ratios   {'No': 98.7, 'Yes': 1.3}       {}   \n",
       "\n",
       "                                                                                                                                                                                                             Loại hình  \\\n",
       "missing_ratio                                                                                                                                                                                                        0   \n",
       "num_values                                                                                                                                                                                                          14   \n",
       "value_ratios   {'Căn hộ': 80.6, 'Nhà phố': 12.3, 'Office-tel': 3.7, 'Đất nền': 0.8, 'Shophouse': 0.8, 'Biệt thự': 0.6, 'Penthouse': 0.5, 'Văn phòng': 0.4, 'Căn hộ dịch vụ': 0.1, 'Loại khác': 0.1, 'Lofthouse': 0....   \n",
       "\n",
       "                                                                     Loại chủ quyền  \\\n",
       "missing_ratio                                                                  28.5   \n",
       "num_values                                                                        4   \n",
       "value_ratios   {'HĐ mua bán': 72.6, 'Sổ hồng': 25.4, 'Sổ đỏ': 2.0, 'Giấy tay': 0.0}   \n",
       "\n",
       "                                Máy sấy       Nhà trống Mã nhà đất  \n",
       "missing_ratio                         0             100        100  \n",
       "num_values                            2               1          0  \n",
       "value_ratios   {'No': 99.7, 'Yes': 0.3}  {'Yes': 100.0}         {}  \n",
       "\n",
       "[3 rows x 116 columns]"
      ]
     },
     "execution_count": 18,
     "metadata": {},
     "output_type": "execute_result"
    }
   ],
   "source": [
    "pd.set_option('display.max_colwidth', 200) # Để nhìn rõ hơn\n",
    "\n",
    "cat_cols = list(set(train_X_df.columns) - set(num_cols))\n",
    "df = train_X_df[cat_cols]\n",
    "def missing_ratio(df):\n",
    "    return (df.isna().mean() * 100).round(1)\n",
    "def num_values(df):\n",
    "    return df.nunique()\n",
    "def value_ratios(c):\n",
    "    return dict((c.value_counts(normalize=True) * 100).round(1))\n",
    "df.agg([missing_ratio, num_values, value_ratios])\n",
    "\n"
   ]
  },
  {
   "cell_type": "code",
   "execution_count": 19,
   "metadata": {},
   "outputs": [
    {
     "data": {
      "text/plain": [
       "56"
      ]
     },
     "execution_count": 19,
     "metadata": {},
     "output_type": "execute_result"
    }
   ],
   "source": [
    "for i in range(0, df.shape[1]):\n",
    "    if df.agg(missing_ratio)[i] >= 50:\n",
    "#         print(df.columns.values[i], df.agg(missing_ratio)[i])\n",
    "        dropped_col.append(df.columns.values[i])\n",
    "len(dropped_col)"
   ]
  }
 ],
 "metadata": {
  "kernelspec": {
   "display_name": "Python 3",
   "language": "python",
   "name": "python3"
  },
  "language_info": {
   "codemirror_mode": {
    "name": "ipython",
    "version": 3
   },
   "file_extension": ".py",
   "mimetype": "text/x-python",
   "name": "python",
   "nbconvert_exporter": "python",
   "pygments_lexer": "ipython3",
   "version": "3.8.3"
  }
 },
 "nbformat": 4,
 "nbformat_minor": 4
}
