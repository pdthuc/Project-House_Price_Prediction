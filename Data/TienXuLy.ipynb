{
 "cells": [
  {
   "cell_type": "markdown",
   "metadata": {},
   "source": [
    "# **TIỀN XỬ LÝ** \n",
    "\n",
    "## Các bước thực hiện:\n",
    " - Kiểm tra và tiền xử lý output \n",
    " - Tách dữ liệu thành 3 tập: train, validaton, test.\n",
    " - Tiến hành tiền xử lý\n"
   ]
  },
  {
   "cell_type": "code",
   "execution_count": 1,
   "metadata": {},
   "outputs": [],
   "source": [
    "# IMPORT THƯ VIỆN\n",
    "%matplotlib inline\n",
    "import matplotlib.pyplot as plt\n",
    "import seaborn as sns # seaborn là thư viện được xây trên matplotlib, giúp việc visualization đỡ khổ hơn\n",
    "import pandas as pd\n",
    "import numpy as np\n",
    "\n",
    "from sklearn.model_selection import train_test_split\n",
    "from sklearn.preprocessing import OneHotEncoder, StandardScaler\n",
    "from sklearn.impute import SimpleImputer\n",
    "from sklearn.base import BaseEstimator, TransformerMixin\n",
    "from sklearn.pipeline import Pipeline, make_pipeline\n",
    "from sklearn.compose import ColumnTransformer, make_column_transformer\n",
    "from sklearn.neural_network import MLPClassifier\n",
    "from sklearn import set_config\n",
    "set_config(display='diagram') # Để trực quan hóa pipeline"
   ]
  },
  {
   "cell_type": "markdown",
   "metadata": {},
   "source": [
    "## Khám phá dữ liệu (đủ để có thể xác định câu hỏi)"
   ]
  },
  {
   "cell_type": "code",
   "execution_count": 2,
   "metadata": {},
   "outputs": [
    {
     "data": {
      "text/html": [
       "<div>\n",
       "<style scoped>\n",
       "    .dataframe tbody tr th:only-of-type {\n",
       "        vertical-align: middle;\n",
       "    }\n",
       "\n",
       "    .dataframe tbody tr th {\n",
       "        vertical-align: top;\n",
       "    }\n",
       "\n",
       "    .dataframe thead th {\n",
       "        text-align: right;\n",
       "    }\n",
       "</style>\n",
       "<table border=\"1\" class=\"dataframe\">\n",
       "  <thead>\n",
       "    <tr style=\"text-align: right;\">\n",
       "      <th></th>\n",
       "      <th>Loại hình</th>\n",
       "      <th>Phòng ngủ</th>\n",
       "      <th>Phòng tắm</th>\n",
       "      <th>Diện tích</th>\n",
       "      <th>Diện tích sử dụng</th>\n",
       "      <th>Tình hình nội thất</th>\n",
       "      <th>Loại chủ quyền</th>\n",
       "      <th>Dự án</th>\n",
       "      <th>Tháp</th>\n",
       "      <th>Giá bán</th>\n",
       "      <th>...</th>\n",
       "      <th>Q2 Thảo Điền</th>\n",
       "      <th>Căn hộ cao cấp quận 2</th>\n",
       "      <th>Chủ đầu tư Singapore Thảo Điền</th>\n",
       "      <th>Căn hộ Thảo Điền</th>\n",
       "      <th>Căn hộ hạng sang</th>\n",
       "      <th>Căn hộ view sông</th>\n",
       "      <th>Đầy đủ vệ sinh</th>\n",
       "      <th>Kệ bếp</th>\n",
       "      <th>Hoàn thiện cơ bản</th>\n",
       "      <th>Nhà trống</th>\n",
       "    </tr>\n",
       "  </thead>\n",
       "  <tbody>\n",
       "    <tr>\n",
       "      <th>0</th>\n",
       "      <td>Căn hộ</td>\n",
       "      <td>3.0</td>\n",
       "      <td>2.0</td>\n",
       "      <td>88 m²</td>\n",
       "      <td>88 m²</td>\n",
       "      <td>Đầy đủ nội thất</td>\n",
       "      <td>Sổ hồng</td>\n",
       "      <td>Sky Garden</td>\n",
       "      <td>Sky Garden 2</td>\n",
       "      <td>3 tỷ</td>\n",
       "      <td>...</td>\n",
       "      <td>NaN</td>\n",
       "      <td>NaN</td>\n",
       "      <td>NaN</td>\n",
       "      <td>NaN</td>\n",
       "      <td>NaN</td>\n",
       "      <td>NaN</td>\n",
       "      <td>NaN</td>\n",
       "      <td>NaN</td>\n",
       "      <td>NaN</td>\n",
       "      <td>NaN</td>\n",
       "    </tr>\n",
       "    <tr>\n",
       "      <th>1</th>\n",
       "      <td>Căn hộ</td>\n",
       "      <td>3.0</td>\n",
       "      <td>2.0</td>\n",
       "      <td>90 m²</td>\n",
       "      <td>86 m²</td>\n",
       "      <td>Đầy đủ nội thất</td>\n",
       "      <td>HĐ mua bán</td>\n",
       "      <td>The Sun Avenue</td>\n",
       "      <td>Block 2</td>\n",
       "      <td>4.9 tỷ</td>\n",
       "      <td>...</td>\n",
       "      <td>NaN</td>\n",
       "      <td>NaN</td>\n",
       "      <td>NaN</td>\n",
       "      <td>NaN</td>\n",
       "      <td>NaN</td>\n",
       "      <td>NaN</td>\n",
       "      <td>NaN</td>\n",
       "      <td>NaN</td>\n",
       "      <td>NaN</td>\n",
       "      <td>NaN</td>\n",
       "    </tr>\n",
       "    <tr>\n",
       "      <th>2</th>\n",
       "      <td>Căn hộ</td>\n",
       "      <td>4.0</td>\n",
       "      <td>2.0</td>\n",
       "      <td>128 m²</td>\n",
       "      <td>128 m²</td>\n",
       "      <td>Nội thất cơ bản</td>\n",
       "      <td>Sổ hồng</td>\n",
       "      <td>NaN</td>\n",
       "      <td>NaN</td>\n",
       "      <td>4.25 tỷ</td>\n",
       "      <td>...</td>\n",
       "      <td>NaN</td>\n",
       "      <td>NaN</td>\n",
       "      <td>NaN</td>\n",
       "      <td>NaN</td>\n",
       "      <td>NaN</td>\n",
       "      <td>NaN</td>\n",
       "      <td>NaN</td>\n",
       "      <td>NaN</td>\n",
       "      <td>NaN</td>\n",
       "      <td>NaN</td>\n",
       "    </tr>\n",
       "    <tr>\n",
       "      <th>3</th>\n",
       "      <td>Nhà phố</td>\n",
       "      <td>4.0</td>\n",
       "      <td>4.0</td>\n",
       "      <td>31.8 m²</td>\n",
       "      <td>76.3 m²</td>\n",
       "      <td>Không có nội thất</td>\n",
       "      <td>Sổ hồng</td>\n",
       "      <td>NaN</td>\n",
       "      <td>NaN</td>\n",
       "      <td>5.62 tỷ</td>\n",
       "      <td>...</td>\n",
       "      <td>NaN</td>\n",
       "      <td>NaN</td>\n",
       "      <td>NaN</td>\n",
       "      <td>NaN</td>\n",
       "      <td>NaN</td>\n",
       "      <td>NaN</td>\n",
       "      <td>NaN</td>\n",
       "      <td>NaN</td>\n",
       "      <td>NaN</td>\n",
       "      <td>NaN</td>\n",
       "    </tr>\n",
       "    <tr>\n",
       "      <th>4</th>\n",
       "      <td>Nhà phố</td>\n",
       "      <td>2.0</td>\n",
       "      <td>1.0</td>\n",
       "      <td>26.5 m²</td>\n",
       "      <td>54 m²</td>\n",
       "      <td>Không có nội thất</td>\n",
       "      <td>Sổ hồng</td>\n",
       "      <td>NaN</td>\n",
       "      <td>NaN</td>\n",
       "      <td>2.4 tỷ</td>\n",
       "      <td>...</td>\n",
       "      <td>NaN</td>\n",
       "      <td>NaN</td>\n",
       "      <td>NaN</td>\n",
       "      <td>NaN</td>\n",
       "      <td>NaN</td>\n",
       "      <td>NaN</td>\n",
       "      <td>NaN</td>\n",
       "      <td>NaN</td>\n",
       "      <td>NaN</td>\n",
       "      <td>NaN</td>\n",
       "    </tr>\n",
       "    <tr>\n",
       "      <th>...</th>\n",
       "      <td>...</td>\n",
       "      <td>...</td>\n",
       "      <td>...</td>\n",
       "      <td>...</td>\n",
       "      <td>...</td>\n",
       "      <td>...</td>\n",
       "      <td>...</td>\n",
       "      <td>...</td>\n",
       "      <td>...</td>\n",
       "      <td>...</td>\n",
       "      <td>...</td>\n",
       "      <td>...</td>\n",
       "      <td>...</td>\n",
       "      <td>...</td>\n",
       "      <td>...</td>\n",
       "      <td>...</td>\n",
       "      <td>...</td>\n",
       "      <td>...</td>\n",
       "      <td>...</td>\n",
       "      <td>...</td>\n",
       "      <td>...</td>\n",
       "    </tr>\n",
       "    <tr>\n",
       "      <th>6930</th>\n",
       "      <td>Căn hộ</td>\n",
       "      <td>2.0</td>\n",
       "      <td>1.0</td>\n",
       "      <td>69 m²</td>\n",
       "      <td>63 m²</td>\n",
       "      <td>Nội thất cơ bản</td>\n",
       "      <td>HĐ mua bán</td>\n",
       "      <td>Vinhomes Grand Park</td>\n",
       "      <td>S3.03</td>\n",
       "      <td>2.6 tỷ</td>\n",
       "      <td>...</td>\n",
       "      <td>NaN</td>\n",
       "      <td>NaN</td>\n",
       "      <td>NaN</td>\n",
       "      <td>NaN</td>\n",
       "      <td>NaN</td>\n",
       "      <td>NaN</td>\n",
       "      <td>NaN</td>\n",
       "      <td>NaN</td>\n",
       "      <td>NaN</td>\n",
       "      <td>NaN</td>\n",
       "    </tr>\n",
       "    <tr>\n",
       "      <th>6931</th>\n",
       "      <td>Căn hộ</td>\n",
       "      <td>2.0</td>\n",
       "      <td>2.0</td>\n",
       "      <td>65.4 m²</td>\n",
       "      <td>60.7 m²</td>\n",
       "      <td>Nội thất cơ bản</td>\n",
       "      <td>HĐ mua bán</td>\n",
       "      <td>Lovera Vista Khang Điền</td>\n",
       "      <td>BLOCK C</td>\n",
       "      <td>2.05 tỷ</td>\n",
       "      <td>...</td>\n",
       "      <td>NaN</td>\n",
       "      <td>NaN</td>\n",
       "      <td>NaN</td>\n",
       "      <td>NaN</td>\n",
       "      <td>NaN</td>\n",
       "      <td>NaN</td>\n",
       "      <td>NaN</td>\n",
       "      <td>NaN</td>\n",
       "      <td>NaN</td>\n",
       "      <td>NaN</td>\n",
       "    </tr>\n",
       "    <tr>\n",
       "      <th>6932</th>\n",
       "      <td>Căn hộ</td>\n",
       "      <td>2.0</td>\n",
       "      <td>2.0</td>\n",
       "      <td>66.4 m²</td>\n",
       "      <td>66.4 m²</td>\n",
       "      <td>Đầy đủ nội thất</td>\n",
       "      <td>HĐ mua bán</td>\n",
       "      <td>Masteri Thảo Điền</td>\n",
       "      <td>T1</td>\n",
       "      <td>8 tỷ</td>\n",
       "      <td>...</td>\n",
       "      <td>NaN</td>\n",
       "      <td>NaN</td>\n",
       "      <td>NaN</td>\n",
       "      <td>NaN</td>\n",
       "      <td>NaN</td>\n",
       "      <td>NaN</td>\n",
       "      <td>NaN</td>\n",
       "      <td>NaN</td>\n",
       "      <td>NaN</td>\n",
       "      <td>NaN</td>\n",
       "    </tr>\n",
       "    <tr>\n",
       "      <th>6933</th>\n",
       "      <td>Căn hộ</td>\n",
       "      <td>2.0</td>\n",
       "      <td>2.0</td>\n",
       "      <td>67 m²</td>\n",
       "      <td>67 m²</td>\n",
       "      <td>Nội thất cơ bản</td>\n",
       "      <td>NaN</td>\n",
       "      <td>Green Star Sky Garden</td>\n",
       "      <td>NaN</td>\n",
       "      <td>2.3 tỷ</td>\n",
       "      <td>...</td>\n",
       "      <td>NaN</td>\n",
       "      <td>NaN</td>\n",
       "      <td>NaN</td>\n",
       "      <td>NaN</td>\n",
       "      <td>NaN</td>\n",
       "      <td>NaN</td>\n",
       "      <td>NaN</td>\n",
       "      <td>NaN</td>\n",
       "      <td>NaN</td>\n",
       "      <td>NaN</td>\n",
       "    </tr>\n",
       "    <tr>\n",
       "      <th>6934</th>\n",
       "      <td>Căn hộ</td>\n",
       "      <td>2.0</td>\n",
       "      <td>1.0</td>\n",
       "      <td>58.36 m²</td>\n",
       "      <td>58.36 m²</td>\n",
       "      <td>Không có nội thất</td>\n",
       "      <td>Sổ hồng</td>\n",
       "      <td>NaN</td>\n",
       "      <td>NaN</td>\n",
       "      <td>3.6 tỷ</td>\n",
       "      <td>...</td>\n",
       "      <td>NaN</td>\n",
       "      <td>NaN</td>\n",
       "      <td>NaN</td>\n",
       "      <td>NaN</td>\n",
       "      <td>NaN</td>\n",
       "      <td>NaN</td>\n",
       "      <td>NaN</td>\n",
       "      <td>NaN</td>\n",
       "      <td>NaN</td>\n",
       "      <td>NaN</td>\n",
       "    </tr>\n",
       "  </tbody>\n",
       "</table>\n",
       "<p>6935 rows × 123 columns</p>\n",
       "</div>"
      ],
      "text/plain": [
       "     Loại hình  Phòng ngủ  Phòng tắm Diện tích Diện tích sử dụng  \\\n",
       "0       Căn hộ        3.0        2.0     88 m²             88 m²   \n",
       "1       Căn hộ        3.0        2.0     90 m²             86 m²   \n",
       "2       Căn hộ        4.0        2.0    128 m²            128 m²   \n",
       "3      Nhà phố        4.0        4.0   31.8 m²           76.3 m²   \n",
       "4      Nhà phố        2.0        1.0   26.5 m²             54 m²   \n",
       "...        ...        ...        ...       ...               ...   \n",
       "6930    Căn hộ        2.0        1.0     69 m²             63 m²   \n",
       "6931    Căn hộ        2.0        2.0   65.4 m²           60.7 m²   \n",
       "6932    Căn hộ        2.0        2.0   66.4 m²           66.4 m²   \n",
       "6933    Căn hộ        2.0        2.0     67 m²             67 m²   \n",
       "6934    Căn hộ        2.0        1.0  58.36 m²          58.36 m²   \n",
       "\n",
       "     Tình hình nội thất Loại chủ quyền                    Dự án          Tháp  \\\n",
       "0       Đầy đủ nội thất        Sổ hồng               Sky Garden  Sky Garden 2   \n",
       "1       Đầy đủ nội thất     HĐ mua bán           The Sun Avenue       Block 2   \n",
       "2       Nội thất cơ bản        Sổ hồng                      NaN           NaN   \n",
       "3     Không có nội thất        Sổ hồng                      NaN           NaN   \n",
       "4     Không có nội thất        Sổ hồng                      NaN           NaN   \n",
       "...                 ...            ...                      ...           ...   \n",
       "6930    Nội thất cơ bản     HĐ mua bán      Vinhomes Grand Park         S3.03   \n",
       "6931    Nội thất cơ bản     HĐ mua bán  Lovera Vista Khang Điền       BLOCK C   \n",
       "6932    Đầy đủ nội thất     HĐ mua bán        Masteri Thảo Điền            T1   \n",
       "6933    Nội thất cơ bản            NaN    Green Star Sky Garden           NaN   \n",
       "6934  Không có nội thất        Sổ hồng                      NaN           NaN   \n",
       "\n",
       "      Giá bán  ... Q2 Thảo Điền Căn hộ cao cấp quận 2  \\\n",
       "0        3 tỷ  ...          NaN                   NaN   \n",
       "1      4.9 tỷ  ...          NaN                   NaN   \n",
       "2     4.25 tỷ  ...          NaN                   NaN   \n",
       "3     5.62 tỷ  ...          NaN                   NaN   \n",
       "4      2.4 tỷ  ...          NaN                   NaN   \n",
       "...       ...  ...          ...                   ...   \n",
       "6930   2.6 tỷ  ...          NaN                   NaN   \n",
       "6931  2.05 tỷ  ...          NaN                   NaN   \n",
       "6932     8 tỷ  ...          NaN                   NaN   \n",
       "6933   2.3 tỷ  ...          NaN                   NaN   \n",
       "6934   3.6 tỷ  ...          NaN                   NaN   \n",
       "\n",
       "     Chủ đầu tư Singapore Thảo Điền Căn hộ Thảo Điền Căn hộ hạng sang  \\\n",
       "0                               NaN              NaN              NaN   \n",
       "1                               NaN              NaN              NaN   \n",
       "2                               NaN              NaN              NaN   \n",
       "3                               NaN              NaN              NaN   \n",
       "4                               NaN              NaN              NaN   \n",
       "...                             ...              ...              ...   \n",
       "6930                            NaN              NaN              NaN   \n",
       "6931                            NaN              NaN              NaN   \n",
       "6932                            NaN              NaN              NaN   \n",
       "6933                            NaN              NaN              NaN   \n",
       "6934                            NaN              NaN              NaN   \n",
       "\n",
       "     Căn hộ view sông Đầy đủ vệ sinh Kệ bếp Hoàn thiện cơ bản Nhà trống  \n",
       "0                 NaN            NaN    NaN               NaN       NaN  \n",
       "1                 NaN            NaN    NaN               NaN       NaN  \n",
       "2                 NaN            NaN    NaN               NaN       NaN  \n",
       "3                 NaN            NaN    NaN               NaN       NaN  \n",
       "4                 NaN            NaN    NaN               NaN       NaN  \n",
       "...               ...            ...    ...               ...       ...  \n",
       "6930              NaN            NaN    NaN               NaN       NaN  \n",
       "6931              NaN            NaN    NaN               NaN       NaN  \n",
       "6932              NaN            NaN    NaN               NaN       NaN  \n",
       "6933              NaN            NaN    NaN               NaN       NaN  \n",
       "6934              NaN            NaN    NaN               NaN       NaN  \n",
       "\n",
       "[6935 rows x 123 columns]"
      ]
     },
     "execution_count": 2,
     "metadata": {},
     "output_type": "execute_result"
    }
   ],
   "source": [
    "data = pd.read_csv('HOUSEs_info.csv', sep = '\\t')\n",
    "data"
   ]
  },
  {
   "cell_type": "markdown",
   "metadata": {},
   "source": [
    "### Dữ liệu có bao nhiêu dòng và bao nhiêu cột?"
   ]
  },
  {
   "cell_type": "code",
   "execution_count": 3,
   "metadata": {},
   "outputs": [
    {
     "data": {
      "text/plain": [
       "(6935, 123)"
      ]
     },
     "execution_count": 3,
     "metadata": {},
     "output_type": "execute_result"
    }
   ],
   "source": [
    "data.shape\n"
   ]
  },
  {
   "cell_type": "markdown",
   "metadata": {},
   "source": [
    "### Dữ liệu có các dòng bị lặp không?"
   ]
  },
  {
   "cell_type": "code",
   "execution_count": 4,
   "metadata": {},
   "outputs": [
    {
     "data": {
      "text/plain": [
       "0"
      ]
     },
     "execution_count": 4,
     "metadata": {},
     "output_type": "execute_result"
    }
   ],
   "source": [
    "data.index.duplicated().sum()"
   ]
  },
  {
   "cell_type": "markdown",
   "metadata": {},
   "source": [
    "## Đưa ra câu hỏi cần trả lời\n",
    "*Output - Giá bán -* được tính từ *input - các thông tin của hành khách -* theo công thức nào?\n",
    " Trong đồ án này, ý nghĩa thực tế của việc đi tìm câu trả lời cho câu hỏi trên giúp người dùng có được 1 sự tham khảo với 1 độ chính xác cụ thể về giá nhà dựa trên các thông tin. Qua đó, người dùng có thể dựa trên dự đoán để tự đưa ra quyết định về việc mua (bán) nhà với một mức giá hợp lý.  \n"
   ]
  },
  {
   "cell_type": "markdown",
   "metadata": {},
   "source": [
    "## Khám phá dữ liệu \n",
    "### 1. OUTPUT TRƯỚC KHI TIỀN XỬ LÝ"
   ]
  },
  {
   "cell_type": "code",
   "execution_count": 5,
   "metadata": {},
   "outputs": [
    {
     "data": {
      "text/plain": [
       "dtype('O')"
      ]
     },
     "execution_count": 5,
     "metadata": {},
     "output_type": "execute_result"
    }
   ],
   "source": [
    "# Cột output hiện có kiểu dữ liệu gì?\n",
    "data['Giá bán'].dtype"
   ]
  },
  {
   "cell_type": "code",
   "execution_count": 6,
   "metadata": {},
   "outputs": [
    {
     "data": {
      "text/plain": [
       "393"
      ]
     },
     "execution_count": 6,
     "metadata": {},
     "output_type": "execute_result"
    }
   ],
   "source": [
    "# Cột output có giá trị thiếu không?\n",
    "data['Giá bán'].isna().sum()"
   ]
  },
  {
   "cell_type": "markdown",
   "metadata": {},
   "source": [
    "#### TIỀN XỬ LÝ OUTPUT"
   ]
  },
  {
   "cell_type": "code",
   "execution_count": 7,
   "metadata": {},
   "outputs": [],
   "source": [
    "# Xoá ouput có giá trị thiếu\n",
    "data = data[data['Giá bán'].notna()]\n",
    "data['Giá bán'].isna().sum()\n",
    "data = data.reset_index(drop = True) "
   ]
  },
  {
   "cell_type": "code",
   "execution_count": 8,
   "metadata": {},
   "outputs": [],
   "source": [
    "# Chuẩn hoá về dạng số\n",
    "\n",
    "# Vị trí các số hảng tỷ\n",
    "mil_index = [] \n",
    "# Vị trí các số hảng triệu\n",
    "bil_index = []\n",
    "\n",
    "for i in range(0, data.shape[0]):\n",
    "    value = data['Giá bán'][i] \n",
    "    if 'tỷ' in value:\n",
    "        data.at[i, 'Giá bán'] = value.rstrip('tỷ')\n",
    "        bil_index.append(i)\n",
    "    elif 'tr' in value:\n",
    "        data.at[i, 'Giá bán'] = value.rstrip(' tr')\n",
    "        mil_index.append(i)"
   ]
  },
  {
   "cell_type": "code",
   "execution_count": 9,
   "metadata": {},
   "outputs": [],
   "source": [
    "# Chuyển đơn vị triệu thành tỷ (đồng)\n",
    "data['Giá bán'] = data['Giá bán'].astype(float)\n",
    "for i in mil_index:\n",
    "    data.at[i, 'Giá bán'] = data['Giá bán'][i] / 1000"
   ]
  },
  {
   "cell_type": "markdown",
   "metadata": {},
   "source": [
    "### 2. SAU KHI TIỀN XỬ LÝ OUTPUT"
   ]
  },
  {
   "cell_type": "code",
   "execution_count": 10,
   "metadata": {},
   "outputs": [
    {
     "data": {
      "text/plain": [
       "dtype('float64')"
      ]
     },
     "execution_count": 10,
     "metadata": {},
     "output_type": "execute_result"
    }
   ],
   "source": [
    "# Cột output hiện có kiểu dữ liệu gì?\n",
    "data['Giá bán'].dtype"
   ]
  },
  {
   "cell_type": "code",
   "execution_count": 11,
   "metadata": {},
   "outputs": [
    {
     "data": {
      "text/plain": [
       "0"
      ]
     },
     "execution_count": 11,
     "metadata": {},
     "output_type": "execute_result"
    }
   ],
   "source": [
    "# Cột output có giá trị thiếu không?\n",
    "data['Giá bán'].isna().sum()"
   ]
  },
  {
   "cell_type": "markdown",
   "metadata": {},
   "source": [
    "## Tiền xử lý (tách các tập)\n",
    "    Ta tách các tập từ dữ liệu thu thập được thành 3 tập: train, validation và test theo tỉ lệ 70%:15%:15%"
   ]
  },
  {
   "cell_type": "code",
   "execution_count": 12,
   "metadata": {},
   "outputs": [],
   "source": [
    "# Tách X và y\n",
    "y_sr = data['Giá bán'] # sr là viết tắt của series\n",
    "X_df = data.drop(\"Giá bán\", axis=1)"
   ]
  },
  {
   "cell_type": "code",
   "execution_count": 13,
   "metadata": {},
   "outputs": [
    {
     "data": {
      "text/plain": [
       "((4579, 122), (981, 122), (982, 122), (4579,), (981,), (982,))"
      ]
     },
     "execution_count": 13,
     "metadata": {},
     "output_type": "execute_result"
    }
   ],
   "source": [
    "# Tách theo tỉ lệ: 7:2:1\n",
    "# Tách dữ liệu thu thập thành 2 tập: tập huấn luyện và tập other (validation và test) theo tỉ lệ 60%:40%\n",
    "train_X_df, other_X_df, train_y_sr, other_y_sr = train_test_split(X_df, y_sr, test_size=0.3, random_state=0)\n",
    "\n",
    "# Tách tập other (validation và test) thành 2 tập: tập validation và tập test theo tỉ lệ 50%:50% (tức: bằng 15%:15% so với dữ liệu ban đầu)\n",
    "val_X_df, test_X_df, val_y_sr, test_y_sr = train_test_split(other_X_df, other_y_sr, test_size=0.5, random_state=0)\n",
    "\n",
    "train_X_df.shape, val_X_df.shape, test_X_df.shape, train_y_sr.shape, val_y_sr.shape, test_y_sr.shape"
   ]
  },
  {
   "cell_type": "markdown",
   "metadata": {},
   "source": [
    "## Khám phá dữ liệu (tập huấn luyện)"
   ]
  },
  {
   "cell_type": "code",
   "execution_count": 14,
   "metadata": {},
   "outputs": [
    {
     "data": {
      "text/plain": [
       "Loại hình             object\n",
       "Phòng ngủ            float64\n",
       "Phòng tắm            float64\n",
       "Diện tích             object\n",
       "Diện tích sử dụng     object\n",
       "                      ...   \n",
       "Căn hộ view sông      object\n",
       "Đầy đủ vệ sinh        object\n",
       "Kệ bếp                object\n",
       "Hoàn thiện cơ bản     object\n",
       "Nhà trống             object\n",
       "Length: 122, dtype: object"
      ]
     },
     "execution_count": 14,
     "metadata": {},
     "output_type": "execute_result"
    }
   ],
   "source": [
    "train_X_df.dtypes"
   ]
  },
  {
   "cell_type": "code",
   "execution_count": 15,
   "metadata": {},
   "outputs": [
    {
     "data": {
      "text/plain": [
       "Phòng ngủ    float64\n",
       "Phòng tắm    float64\n",
       "Số tầng      float64\n",
       "dtype: object"
      ]
     },
     "execution_count": 15,
     "metadata": {},
     "output_type": "execute_result"
    }
   ],
   "source": [
    "train_X_df.dtypes[train_X_df.dtypes != object]"
   ]
  },
  {
   "cell_type": "code",
   "execution_count": 16,
   "metadata": {},
   "outputs": [],
   "source": [
    "dropped_col = []"
   ]
  },
  {
   "cell_type": "code",
   "execution_count": 17,
   "metadata": {},
   "outputs": [
    {
     "data": {
      "text/html": [
       "<div>\n",
       "<style scoped>\n",
       "    .dataframe tbody tr th:only-of-type {\n",
       "        vertical-align: middle;\n",
       "    }\n",
       "\n",
       "    .dataframe tbody tr th {\n",
       "        vertical-align: top;\n",
       "    }\n",
       "\n",
       "    .dataframe thead th {\n",
       "        text-align: right;\n",
       "    }\n",
       "</style>\n",
       "<table border=\"1\" class=\"dataframe\">\n",
       "  <thead>\n",
       "    <tr style=\"text-align: right;\">\n",
       "      <th></th>\n",
       "      <th>Phòng ngủ</th>\n",
       "      <th>Phòng tắm</th>\n",
       "      <th>Số tầng</th>\n",
       "    </tr>\n",
       "  </thead>\n",
       "  <tbody>\n",
       "    <tr>\n",
       "      <th>missing_ratio</th>\n",
       "      <td>1.9</td>\n",
       "      <td>2.3</td>\n",
       "      <td>47.2</td>\n",
       "    </tr>\n",
       "    <tr>\n",
       "      <th>min</th>\n",
       "      <td>0.0</td>\n",
       "      <td>1.0</td>\n",
       "      <td>1.0</td>\n",
       "    </tr>\n",
       "    <tr>\n",
       "      <th>lower_quartile</th>\n",
       "      <td>2.0</td>\n",
       "      <td>1.0</td>\n",
       "      <td>3.0</td>\n",
       "    </tr>\n",
       "    <tr>\n",
       "      <th>median</th>\n",
       "      <td>2.0</td>\n",
       "      <td>2.0</td>\n",
       "      <td>9.0</td>\n",
       "    </tr>\n",
       "    <tr>\n",
       "      <th>upper_quartile</th>\n",
       "      <td>3.0</td>\n",
       "      <td>2.0</td>\n",
       "      <td>17.0</td>\n",
       "    </tr>\n",
       "    <tr>\n",
       "      <th>max</th>\n",
       "      <td>25.0</td>\n",
       "      <td>25.0</td>\n",
       "      <td>44.0</td>\n",
       "    </tr>\n",
       "  </tbody>\n",
       "</table>\n",
       "</div>"
      ],
      "text/plain": [
       "                Phòng ngủ  Phòng tắm  Số tầng\n",
       "missing_ratio         1.9        2.3     47.2\n",
       "min                   0.0        1.0      1.0\n",
       "lower_quartile        2.0        1.0      3.0\n",
       "median                2.0        2.0      9.0\n",
       "upper_quartile        3.0        2.0     17.0\n",
       "max                  25.0       25.0     44.0"
      ]
     },
     "execution_count": 17,
     "metadata": {},
     "output_type": "execute_result"
    }
   ],
   "source": [
    "\n",
    "\n",
    "# Các cột dạng số\n",
    "num_cols = ['Phòng ngủ', 'Phòng tắm', 'Số tầng']\n",
    "df = train_X_df[num_cols]\n",
    "def missing_ratio(df):\n",
    "    return (df.isna().mean() * 100).round(1)\n",
    "def lower_quartile(df):\n",
    "    return df.quantile(0.25).round(1)\n",
    "def median(df):\n",
    "    return df.quantile(0.5).round(1)\n",
    "def upper_quartile(df):\n",
    "    return df.quantile(0.75).round(1)\n",
    "df.agg([missing_ratio, 'min', lower_quartile, median, upper_quartile, 'max'])"
   ]
  },
  {
   "cell_type": "code",
   "execution_count": 18,
   "metadata": {},
   "outputs": [
    {
     "data": {
      "text/plain": [
       "59"
      ]
     },
     "execution_count": 18,
     "metadata": {},
     "output_type": "execute_result"
    }
   ],
   "source": [
    "pd.set_option('display.max_colwidth', 200) # Để nhìn rõ hơn\n",
    "\n",
    "cat_cols = list(set(train_X_df.columns) - set(num_cols))\n",
    "df = train_X_df[cat_cols]\n",
    "def missing_ratio(df):\n",
    "    return (df.isna().mean() * 100).round(1)\n",
    "def num_values(df):\n",
    "    return df.nunique()\n",
    "def value_ratios(c):\n",
    "    return dict((c.value_counts(normalize=True) * 100).round(1))\n",
    "df.agg([missing_ratio, num_values, value_ratios])\n",
    "\n",
    "for i in range(0, df.shape[1]):\n",
    "    if df.agg(missing_ratio)[i] >= 50:\n",
    "         print(df.columns.values[i], df.agg(missing_ratio)[i])\n",
    "        dropped_col.append(df.columns.values[i])\n",
    "len(dropped_col)"
   ]
  },
  {
   "cell_type": "code",
   "execution_count": 19,
   "metadata": {},
   "outputs": [],
   "source": [
    "class ColAdderDropper(BaseEstimator, TransformerMixin):\n",
    "    def __init__(self, num_top_titles=1):\n",
    "        self.num_top_titles = num_top_titles\n",
    "    def fit(self, X_df, y=None):\n",
    "        title_col = X_df.Name.str.extract(r'([a-zA-z]+)\\.', expand=False)\n",
    "        self.title_counts_ = title_col.value_counts()\n",
    "        titles = list(self.title_counts_.index)\n",
    "        self.top_titles_ = titles[:max(1, min(self.num_top_titles, len(titles)))]\n",
    "        return self\n",
    "    def transform(self, X_df, y=None):\n",
    "        # YOUR CODE HERE\n",
    "        df = X_df.copy()\n",
    "        title_col = df.Name.str.extract(\"([a-zA-z]+)\\.\", expand=False)\n",
    "        title_col[~title_col.isin(self.top_titles_)] = 'Others'\n",
    "        df[\"Title\"] = title_col\n",
    "        dropped_cols = ['Name', 'Ticket', 'Cabin']\n",
    "        df.drop(dropped_cols, axis=1, inplace=True)\n",
    "        return df"
   ]
  }
 ],
 "metadata": {
  "kernelspec": {
   "display_name": "Python 3",
   "language": "python",
   "name": "python3"
  },
  "language_info": {
   "codemirror_mode": {
    "name": "ipython",
    "version": 3
   },
   "file_extension": ".py",
   "mimetype": "text/x-python",
   "name": "python",
   "nbconvert_exporter": "python",
   "pygments_lexer": "ipython3",
   "version": "3.8.3"
  }
 },
 "nbformat": 4,
 "nbformat_minor": 4
}
